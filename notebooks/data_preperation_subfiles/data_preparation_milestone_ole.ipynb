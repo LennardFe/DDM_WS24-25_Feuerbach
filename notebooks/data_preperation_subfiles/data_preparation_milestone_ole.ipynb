{
 "cells": [
  {
   "cell_type": "code",
   "execution_count": 60,
   "id": "8c157dab-17b9-411d-b531-16037c520ed5",
   "metadata": {
    "ExecuteTime": {
     "end_time": "2024-11-23T11:50:24.500187Z",
     "start_time": "2024-11-23T11:50:24.013512Z"
    },
    "execution": {
     "iopub.execute_input": "2024-11-07T11:29:23.585236Z",
     "iopub.status.busy": "2024-11-07T11:29:23.584997Z",
     "iopub.status.idle": "2024-11-07T11:29:23.589406Z",
     "shell.execute_reply": "2024-11-07T11:29:23.588687Z",
     "shell.execute_reply.started": "2024-11-07T11:29:23.585213Z"
    },
    "tags": []
   },
   "outputs": [],
   "source": [
    "# import bibs\n",
    "import pandas as pd\n",
    "import os\n",
    "import numpy as np\n",
    "import geopandas as gpd\n",
    "import matplotlib.pyplot as plt\n",
    "from sklearn.cluster import KMeans\n",
    "from matplotlib.patches import Patch\n",
    "from sklearn.decomposition import PCA\n",
    "from sklearn.preprocessing import MinMaxScaler, StandardScaler\n",
    "from sklearn.decomposition import TruncatedSVD"
   ]
  },
  {
   "cell_type": "markdown",
   "id": "0dff6971-89cd-4a53-90ae-f26776df664d",
   "metadata": {},
   "source": [
    "**In your project, the following work steps will overlap and combine:**\n",
    "- Feature selection\n",
    "- Sampling \n",
    "- Feature engineering"
   ]
  },
  {
   "cell_type": "markdown",
   "id": "dcfe388c-7920-4dff-8ae9-4bc5a61deffe",
   "metadata": {},
   "source": [
    "**1. Selection of features:**\n",
    "\n",
    "You must select the right features (columns) that have the greatest impact on the main outcome of the project (**sales of tools for the metal industry**). There should be a causal relationship between the features and sales."
   ]
  },
  {
   "cell_type": "markdown",
   "id": "e2badc42-7747-4583-b819-1e73665aabe3",
   "metadata": {},
   "source": [
    "<u>Your task will be to select features from the following areas:<u>\n",
    "- Employment\n",
    "- Establishment\n",
    "- Payroll \n",
    "- Economic strength \n"
   ]
  },
  {
   "cell_type": "code",
   "execution_count": null,
   "id": "17b03b03-e082-4d03-b753-4c338519871e",
   "metadata": {},
   "outputs": [],
   "source": []
  },
  {
   "cell_type": "markdown",
   "id": "17b2ba82-d2fc-4472-afe6-4f03792f4362",
   "metadata": {},
   "source": [
    "**2. Filtering:** \n",
    "\n",
    "Identify the most important occupations and industries that have a **realistically high tool consumption**"
   ]
  },
  {
   "cell_type": "code",
   "execution_count": null,
   "id": "46f12fe2-674c-4c9c-b2b2-5ead43df0a4c",
   "metadata": {},
   "outputs": [],
   "source": []
  },
  {
   "cell_type": "markdown",
   "id": "5b9e65e4-134e-43f3-8554-d624156cd500",
   "metadata": {},
   "source": [
    "**3. Feature engineering / construction / aggregation:**\n",
    "\n",
    "In all three datasets there are duplicates in the FIPS column as further dimensions are mapped in the naics or occ_code columns. This makes specific combinations of FIPS, NAICS, Occupation and a specific feature in a row possible. <br>\n",
    "\n",
    "Due to the requirement to use a **cluster algorithm**, the final dataframe must have a special form. **Each region (FIPS number) may only occur once in the df.** \n",
    "You must therefore prioritize the industries and occupations in this step and create special features that contain the Occupation or Industry dimension within them.\n",
    "\n",
    "This is called **Pivoting or Wide-Format-Transformation**"
   ]
  },
  {
   "cell_type": "markdown",
   "id": "f5501096-d251-4f15-8ed8-d1b70e4230f3",
   "metadata": {},
   "source": [
    "<u>Possible features could be as listed below:<u>\n",
    "\n",
    "- Number of employees in foundries (NAICS: 3315)\n",
    "- Number of grinders (OCC: 51-9022)\n",
    "- Number of grinders (OCC: 51-9022) in foundries (NAICS: 3315)"
   ]
  },
  {
   "cell_type": "code",
   "execution_count": null,
   "id": "87aede51-6a3a-478f-8db2-f1af859a0902",
   "metadata": {},
   "outputs": [],
   "source": []
  },
  {
   "cell_type": "markdown",
   "id": "09413123-4c91-4d13-9d56-883fe20ed108",
   "metadata": {},
   "source": [
    "# Loading data"
   ]
  },
  {
   "cell_type": "code",
   "execution_count": 61,
   "id": "502a2fa5-4abf-46e4-82e0-d0315f0deb29",
   "metadata": {
    "ExecuteTime": {
     "end_time": "2024-11-23T11:44:02.798069Z",
     "start_time": "2024-11-23T11:44:02.786472Z"
    },
    "execution": {
     "iopub.execute_input": "2024-11-07T10:10:04.784526Z",
     "iopub.status.busy": "2024-11-07T10:10:04.783175Z",
     "iopub.status.idle": "2024-11-07T10:10:04.792758Z",
     "shell.execute_reply": "2024-11-07T10:10:04.792211Z",
     "shell.execute_reply.started": "2024-11-07T10:10:04.784499Z"
    },
    "tags": []
   },
   "outputs": [],
   "source": [
    "current_folder = os.getcwd()\n",
    "project_folder = os.path.abspath(os.path.join(current_folder, '..', '..'))\n",
    "data_path = project_folder + \"/data/raw/\""
   ]
  },
  {
   "cell_type": "code",
   "execution_count": 62,
   "id": "f12d69db-74c8-4af6-99eb-f442b199e6db",
   "metadata": {
    "ExecuteTime": {
     "end_time": "2024-11-23T11:44:05.165553Z",
     "start_time": "2024-11-23T11:44:05.108910Z"
    },
    "execution": {
     "iopub.execute_input": "2024-11-07T10:10:04.795964Z",
     "iopub.status.busy": "2024-11-07T10:10:04.794722Z",
     "iopub.status.idle": "2024-11-07T10:10:05.351746Z",
     "shell.execute_reply": "2024-11-07T10:10:05.351027Z",
     "shell.execute_reply.started": "2024-11-07T10:10:04.795940Z"
    },
    "tags": []
   },
   "outputs": [],
   "source": [
    "df_pattern = pd.read_pickle(data_path +\"naics_pattern.pickle\")"
   ]
  },
  {
   "cell_type": "code",
   "execution_count": 63,
   "id": "973b7e5d-fa3a-46cb-9d9a-57f71694fdfd",
   "metadata": {
    "ExecuteTime": {
     "end_time": "2024-11-23T11:44:06.411466Z",
     "start_time": "2024-11-23T11:44:06.380449Z"
    },
    "execution": {
     "iopub.execute_input": "2024-11-07T12:45:59.037084Z",
     "iopub.status.busy": "2024-11-07T12:45:59.036806Z",
     "iopub.status.idle": "2024-11-07T12:45:59.059629Z",
     "shell.execute_reply": "2024-11-07T12:45:59.058912Z",
     "shell.execute_reply.started": "2024-11-07T12:45:59.037060Z"
    }
   },
   "outputs": [
    {
     "data": {
      "text/plain": [
       "array([4, 5], dtype=int64)"
      ]
     },
     "execution_count": 63,
     "metadata": {},
     "output_type": "execute_result"
    }
   ],
   "source": [
    "df_pattern['FIPS'] = df_pattern['FIPS'].astype(str)\n",
    "unique_lengths = df_pattern['FIPS'].apply(len).unique()\n",
    "unique_lengths"
   ]
  },
  {
   "cell_type": "code",
   "execution_count": 64,
   "id": "5583a57e-115f-4220-8750-3f8aed3eafd2",
   "metadata": {
    "ExecuteTime": {
     "end_time": "2024-11-23T11:44:07.064632Z",
     "start_time": "2024-11-23T11:44:07.059139Z"
    },
    "execution": {
     "iopub.execute_input": "2024-11-07T12:46:06.973041Z",
     "iopub.status.busy": "2024-11-07T12:46:06.972824Z",
     "iopub.status.idle": "2024-11-07T12:46:06.976520Z",
     "shell.execute_reply": "2024-11-07T12:46:06.975829Z",
     "shell.execute_reply.started": "2024-11-07T12:46:06.973019Z"
    }
   },
   "outputs": [],
   "source": [
    "def add_zeros(code):\n",
    "    if len(code) == 3:\n",
    "        return '00' + code\n",
    "    elif len(code) == 4:\n",
    "        return '0' + code\n",
    "    elif len(code) == 1:\n",
    "        return '0000' + code\n",
    "    return code"
   ]
  },
  {
   "cell_type": "code",
   "execution_count": 65,
   "id": "51e4f779-2f92-43b9-ada7-cd30997aa6d9",
   "metadata": {
    "ExecuteTime": {
     "end_time": "2024-11-23T11:44:07.935341Z",
     "start_time": "2024-11-23T11:44:07.923065Z"
    },
    "execution": {
     "iopub.execute_input": "2024-11-07T12:46:08.086474Z",
     "iopub.status.busy": "2024-11-07T12:46:08.086256Z",
     "iopub.status.idle": "2024-11-07T12:46:08.105579Z",
     "shell.execute_reply": "2024-11-07T12:46:08.104937Z",
     "shell.execute_reply.started": "2024-11-07T12:46:08.086452Z"
    }
   },
   "outputs": [],
   "source": [
    "df_pattern['FIPS'] = df_pattern['FIPS'].apply(add_zeros)"
   ]
  },
  {
   "cell_type": "markdown",
   "id": "88f85e1c-6371-49ed-b28f-96b7a6b0581b",
   "metadata": {},
   "source": [
    "# Feature overview"
   ]
  },
  {
   "cell_type": "code",
   "execution_count": 66,
   "id": "c29e2c6f-88de-4d9a-a748-8d672029dfd2",
   "metadata": {
    "ExecuteTime": {
     "end_time": "2024-11-23T11:44:09.779277Z",
     "start_time": "2024-11-23T11:44:09.762063Z"
    },
    "execution": {
     "iopub.execute_input": "2024-11-07T10:10:05.505284Z",
     "iopub.status.busy": "2024-11-07T10:10:05.504032Z",
     "iopub.status.idle": "2024-11-07T10:10:05.511028Z",
     "shell.execute_reply": "2024-11-07T10:10:05.510184Z",
     "shell.execute_reply.started": "2024-11-07T10:10:05.505260Z"
    }
   },
   "outputs": [
    {
     "data": {
      "text/plain": [
       "Index(['State_GEOID', 'County_GEOID', 'FIPS', 'naics_2', 'naics',\n",
       "       'DESCRIPTION', 'emp_nf', 'emp', 'qp1_nf', 'qp1', 'ap_nf', 'ap', 'est',\n",
       "       'n<5', 'n5_9', 'n10_19', 'n20_49', 'n50_99', 'n100_249', 'n250_499',\n",
       "       'n500_999', 'n1000', 'n1000_1', 'n1000_2', 'n1000_3', 'n1000_4'],\n",
       "      dtype='object')"
      ]
     },
     "execution_count": 66,
     "metadata": {},
     "output_type": "execute_result"
    }
   ],
   "source": [
    "df_pattern.columns"
   ]
  },
  {
   "cell_type": "markdown",
   "id": "cf3c65f2-96e5-44d1-87f1-0b02708ee8a3",
   "metadata": {},
   "source": [
    "**Features:**\n",
    "\n",
    "- **emp:** employment + noise flag\n",
    "- **qp1:** first quarter payroll + noise flag\n",
    "- **ap:** anual payroll + noise flag\n",
    "- **est:** number of establishments (total and for different employment sizes)"
   ]
  },
  {
   "cell_type": "markdown",
   "id": "55f46d9c-c899-47c0-9e7d-3c1fac553a29",
   "metadata": {},
   "source": [
    "# Feature selection "
   ]
  },
  {
   "cell_type": "markdown",
   "id": "ba5ec310-1c7a-48e4-b0da-4731e13ade8a",
   "metadata": {},
   "source": [
    "We will select an exemplary feature in this code.<br>  \n",
    "\n",
    "We will focus on the feature **number of companies (est)**. Regions where specific industries are located or concentrated will usually also consume tools."
   ]
  },
  {
   "cell_type": "code",
   "execution_count": 67,
   "id": "90d78b6f-ae09-4dc4-97bb-b006fc85cef3",
   "metadata": {
    "ExecuteTime": {
     "end_time": "2024-11-23T11:44:16.118703Z",
     "start_time": "2024-11-23T11:44:16.100094Z"
    },
    "execution": {
     "iopub.execute_input": "2024-11-07T10:10:05.524969Z",
     "iopub.status.busy": "2024-11-07T10:10:05.523683Z",
     "iopub.status.idle": "2024-11-07T10:10:05.547431Z",
     "shell.execute_reply": "2024-11-07T10:10:05.546739Z",
     "shell.execute_reply.started": "2024-11-07T10:10:05.524945Z"
    }
   },
   "outputs": [
    {
     "data": {
      "text/html": [
       "<div>\n",
       "<style scoped>\n",
       "    .dataframe tbody tr th:only-of-type {\n",
       "        vertical-align: middle;\n",
       "    }\n",
       "\n",
       "    .dataframe tbody tr th {\n",
       "        vertical-align: top;\n",
       "    }\n",
       "\n",
       "    .dataframe thead th {\n",
       "        text-align: right;\n",
       "    }\n",
       "</style>\n",
       "<table border=\"1\" class=\"dataframe\">\n",
       "  <thead>\n",
       "    <tr style=\"text-align: right;\">\n",
       "      <th></th>\n",
       "      <th>State_GEOID</th>\n",
       "      <th>County_GEOID</th>\n",
       "      <th>FIPS</th>\n",
       "      <th>naics_2</th>\n",
       "      <th>naics</th>\n",
       "      <th>DESCRIPTION</th>\n",
       "      <th>emp_nf</th>\n",
       "      <th>emp</th>\n",
       "      <th>qp1_nf</th>\n",
       "      <th>qp1</th>\n",
       "      <th>...</th>\n",
       "      <th>n20_49</th>\n",
       "      <th>n50_99</th>\n",
       "      <th>n100_249</th>\n",
       "      <th>n250_499</th>\n",
       "      <th>n500_999</th>\n",
       "      <th>n1000</th>\n",
       "      <th>n1000_1</th>\n",
       "      <th>n1000_2</th>\n",
       "      <th>n1000_3</th>\n",
       "      <th>n1000_4</th>\n",
       "    </tr>\n",
       "  </thead>\n",
       "  <tbody>\n",
       "    <tr>\n",
       "      <th>0</th>\n",
       "      <td>01</td>\n",
       "      <td>001</td>\n",
       "      <td>01001</td>\n",
       "      <td>11</td>\n",
       "      <td>1133</td>\n",
       "      <td>Logging</td>\n",
       "      <td>G</td>\n",
       "      <td>68</td>\n",
       "      <td>G</td>\n",
       "      <td>1213</td>\n",
       "      <td>...</td>\n",
       "      <td>N</td>\n",
       "      <td>N</td>\n",
       "      <td>N</td>\n",
       "      <td>N</td>\n",
       "      <td>N</td>\n",
       "      <td>N</td>\n",
       "      <td>N</td>\n",
       "      <td>N</td>\n",
       "      <td>N</td>\n",
       "      <td>N</td>\n",
       "    </tr>\n",
       "    <tr>\n",
       "      <th>1</th>\n",
       "      <td>01</td>\n",
       "      <td>001</td>\n",
       "      <td>01001</td>\n",
       "      <td>21</td>\n",
       "      <td>2123</td>\n",
       "      <td>Nonmetallic Mineral Mining and Quarrying</td>\n",
       "      <td>G</td>\n",
       "      <td>87</td>\n",
       "      <td>G</td>\n",
       "      <td>1224</td>\n",
       "      <td>...</td>\n",
       "      <td>N</td>\n",
       "      <td>N</td>\n",
       "      <td>N</td>\n",
       "      <td>N</td>\n",
       "      <td>N</td>\n",
       "      <td>N</td>\n",
       "      <td>N</td>\n",
       "      <td>N</td>\n",
       "      <td>N</td>\n",
       "      <td>N</td>\n",
       "    </tr>\n",
       "    <tr>\n",
       "      <th>2</th>\n",
       "      <td>01</td>\n",
       "      <td>001</td>\n",
       "      <td>01001</td>\n",
       "      <td>22</td>\n",
       "      <td>2211</td>\n",
       "      <td>Electric Power Generation, Transmission and Di...</td>\n",
       "      <td>G</td>\n",
       "      <td>129</td>\n",
       "      <td>G</td>\n",
       "      <td>4418</td>\n",
       "      <td>...</td>\n",
       "      <td>N</td>\n",
       "      <td>N</td>\n",
       "      <td>N</td>\n",
       "      <td>N</td>\n",
       "      <td>N</td>\n",
       "      <td>N</td>\n",
       "      <td>N</td>\n",
       "      <td>N</td>\n",
       "      <td>N</td>\n",
       "      <td>N</td>\n",
       "    </tr>\n",
       "  </tbody>\n",
       "</table>\n",
       "<p>3 rows × 26 columns</p>\n",
       "</div>"
      ],
      "text/plain": [
       "  State_GEOID County_GEOID   FIPS naics_2 naics  \\\n",
       "0          01          001  01001      11  1133   \n",
       "1          01          001  01001      21  2123   \n",
       "2          01          001  01001      22  2211   \n",
       "\n",
       "                                         DESCRIPTION emp_nf  emp qp1_nf   qp1  \\\n",
       "0                                            Logging      G   68      G  1213   \n",
       "1           Nonmetallic Mineral Mining and Quarrying      G   87      G  1224   \n",
       "2  Electric Power Generation, Transmission and Di...      G  129      G  4418   \n",
       "\n",
       "   ... n20_49  n50_99  n100_249 n250_499 n500_999 n1000 n1000_1 n1000_2  \\\n",
       "0  ...      N       N         N        N        N     N       N       N   \n",
       "1  ...      N       N         N        N        N     N       N       N   \n",
       "2  ...      N       N         N        N        N     N       N       N   \n",
       "\n",
       "  n1000_3 n1000_4  \n",
       "0       N       N  \n",
       "1       N       N  \n",
       "2       N       N  \n",
       "\n",
       "[3 rows x 26 columns]"
      ]
     },
     "execution_count": 67,
     "metadata": {},
     "output_type": "execute_result"
    }
   ],
   "source": [
    "df_pattern.head(3)"
   ]
  },
  {
   "cell_type": "code",
   "execution_count": 68,
   "id": "d1bad120-e461-4c48-94e3-5c6fe549474a",
   "metadata": {
    "ExecuteTime": {
     "end_time": "2024-11-23T11:44:17.537970Z",
     "start_time": "2024-11-23T11:44:17.510140Z"
    },
    "execution": {
     "iopub.execute_input": "2024-11-07T10:10:05.550636Z",
     "iopub.status.busy": "2024-11-07T10:10:05.549407Z",
     "iopub.status.idle": "2024-11-07T10:10:05.583427Z",
     "shell.execute_reply": "2024-11-07T10:10:05.582898Z",
     "shell.execute_reply.started": "2024-11-07T10:10:05.550611Z"
    }
   },
   "outputs": [
    {
     "data": {
      "text/html": [
       "<div>\n",
       "<style scoped>\n",
       "    .dataframe tbody tr th:only-of-type {\n",
       "        vertical-align: middle;\n",
       "    }\n",
       "\n",
       "    .dataframe tbody tr th {\n",
       "        vertical-align: top;\n",
       "    }\n",
       "\n",
       "    .dataframe thead th {\n",
       "        text-align: right;\n",
       "    }\n",
       "</style>\n",
       "<table border=\"1\" class=\"dataframe\">\n",
       "  <thead>\n",
       "    <tr style=\"text-align: right;\">\n",
       "      <th></th>\n",
       "      <th></th>\n",
       "      <th>est_sum</th>\n",
       "      <th>unique_FIPS</th>\n",
       "    </tr>\n",
       "    <tr>\n",
       "      <th>naics</th>\n",
       "      <th>DESCRIPTION</th>\n",
       "      <th></th>\n",
       "      <th></th>\n",
       "    </tr>\n",
       "  </thead>\n",
       "  <tbody>\n",
       "    <tr>\n",
       "      <th>5617</th>\n",
       "      <th>Services to Buildings and Dwellings</th>\n",
       "      <td>220492</td>\n",
       "      <td>2530</td>\n",
       "    </tr>\n",
       "    <tr>\n",
       "      <th>2382</th>\n",
       "      <th>Building Equipment Contractors</th>\n",
       "      <td>193562</td>\n",
       "      <td>2756</td>\n",
       "    </tr>\n",
       "    <tr>\n",
       "      <th>8111</th>\n",
       "      <th>Automotive Repair and Maintenance</th>\n",
       "      <td>164584</td>\n",
       "      <td>2725</td>\n",
       "    </tr>\n",
       "    <tr>\n",
       "      <th>2383</th>\n",
       "      <th>Building Finishing Contractors</th>\n",
       "      <td>124074</td>\n",
       "      <td>2040</td>\n",
       "    </tr>\n",
       "    <tr>\n",
       "      <th>5413</th>\n",
       "      <th>Architectural, Engineering, and Related Services</th>\n",
       "      <td>115269</td>\n",
       "      <td>1924</td>\n",
       "    </tr>\n",
       "    <tr>\n",
       "      <th>2381</th>\n",
       "      <th>Foundation, Structure, and Building Exterior Contractors</th>\n",
       "      <td>101383</td>\n",
       "      <td>2313</td>\n",
       "    </tr>\n",
       "    <tr>\n",
       "      <th>7139</th>\n",
       "      <th>Other Amusement and Recreation Industries</th>\n",
       "      <td>76488</td>\n",
       "      <td>2182</td>\n",
       "    </tr>\n",
       "    <tr>\n",
       "      <th>4413</th>\n",
       "      <th>Automotive Parts, Accessories, and Tire Stores</th>\n",
       "      <td>58112</td>\n",
       "      <td>2427</td>\n",
       "    </tr>\n",
       "    <tr>\n",
       "      <th>5613</th>\n",
       "      <th>Employment Services</th>\n",
       "      <td>57057</td>\n",
       "      <td>1306</td>\n",
       "    </tr>\n",
       "    <tr>\n",
       "      <th>4238</th>\n",
       "      <th>Machinery, Equipment, and Supplies Merchant Wholesalers</th>\n",
       "      <td>54251</td>\n",
       "      <td>1947</td>\n",
       "    </tr>\n",
       "    <tr>\n",
       "      <th>4411</th>\n",
       "      <th>Automobile Dealers</th>\n",
       "      <td>46317</td>\n",
       "      <td>1953</td>\n",
       "    </tr>\n",
       "    <tr>\n",
       "      <th>2362</th>\n",
       "      <th>Nonresidential Building Construction</th>\n",
       "      <td>40928</td>\n",
       "      <td>1687</td>\n",
       "    </tr>\n",
       "    <tr>\n",
       "      <th>4231</th>\n",
       "      <th>Motor Vehicle and Motor Vehicle Parts and Supplies Merchant Wholesalers</th>\n",
       "      <td>21491</td>\n",
       "      <td>1030</td>\n",
       "    </tr>\n",
       "    <tr>\n",
       "      <th>3231</th>\n",
       "      <th>Printing and Related Support Activities</th>\n",
       "      <td>21376</td>\n",
       "      <td>1116</td>\n",
       "    </tr>\n",
       "    <tr>\n",
       "      <th>3327</th>\n",
       "      <th>Machine Shops; Turned Product; and Screw, Nut, and Bolt Manufacturing</th>\n",
       "      <td>20979</td>\n",
       "      <td>1276</td>\n",
       "    </tr>\n",
       "    <tr>\n",
       "      <th>8113</th>\n",
       "      <th>Commercial and Industrial Machinery and Equipment (except Automotive and Electronic) Repair and Maintenance</th>\n",
       "      <td>20429</td>\n",
       "      <td>1615</td>\n",
       "    </tr>\n",
       "    <tr>\n",
       "      <th>2371</th>\n",
       "      <th>Utility System Construction</th>\n",
       "      <td>18133</td>\n",
       "      <td>1559</td>\n",
       "    </tr>\n",
       "    <tr>\n",
       "      <th>5321</th>\n",
       "      <th>Automotive Equipment Rental and Leasing</th>\n",
       "      <td>14677</td>\n",
       "      <td>784</td>\n",
       "    </tr>\n",
       "    <tr>\n",
       "      <th>3399</th>\n",
       "      <th>Other Miscellaneous Manufacturing</th>\n",
       "      <td>13607</td>\n",
       "      <td>900</td>\n",
       "    </tr>\n",
       "    <tr>\n",
       "      <th>3320A2</th>\n",
       "      <th>3323, 3323</th>\n",
       "      <td>12558</td>\n",
       "      <td>1057</td>\n",
       "    </tr>\n",
       "    <tr>\n",
       "      <th>4412</th>\n",
       "      <th>Other Motor Vehicle Dealers</th>\n",
       "      <td>12527</td>\n",
       "      <td>1150</td>\n",
       "    </tr>\n",
       "    <tr>\n",
       "      <th>3370A1</th>\n",
       "      <th>3371, 3372</th>\n",
       "      <td>11709</td>\n",
       "      <td>861</td>\n",
       "    </tr>\n",
       "    <tr>\n",
       "      <th>2131</th>\n",
       "      <th>Support Activities for Mining</th>\n",
       "      <td>10904</td>\n",
       "      <td>624</td>\n",
       "    </tr>\n",
       "    <tr>\n",
       "      <th>2211</th>\n",
       "      <th>Electric Power Generation, Transmission and Distribution</th>\n",
       "      <td>10545</td>\n",
       "      <td>1274</td>\n",
       "    </tr>\n",
       "    <tr>\n",
       "      <th>3330A1</th>\n",
       "      <th>3331, 3332, 3334, 3339</th>\n",
       "      <td>9525</td>\n",
       "      <td>699</td>\n",
       "    </tr>\n",
       "    <tr>\n",
       "      <th>3261</th>\n",
       "      <th>Plastics Product Manufacturing</th>\n",
       "      <td>8596</td>\n",
       "      <td>763</td>\n",
       "    </tr>\n",
       "    <tr>\n",
       "      <th>3391</th>\n",
       "      <th>Medical Equipment and Supplies Manufacturing</th>\n",
       "      <td>8350</td>\n",
       "      <td>587</td>\n",
       "    </tr>\n",
       "    <tr>\n",
       "      <th>5612</th>\n",
       "      <th>Facilities Support Services</th>\n",
       "      <td>8331</td>\n",
       "      <td>606</td>\n",
       "    </tr>\n",
       "    <tr>\n",
       "      <th>3219</th>\n",
       "      <th>Other Wood Product Manufacturing</th>\n",
       "      <td>8095</td>\n",
       "      <td>967</td>\n",
       "    </tr>\n",
       "    <tr>\n",
       "      <th>2373</th>\n",
       "      <th>Highway, Street, and Bridge Construction</th>\n",
       "      <td>8055</td>\n",
       "      <td>905</td>\n",
       "    </tr>\n",
       "    <tr>\n",
       "      <th>3320A1</th>\n",
       "      <th>3321, 3322, 3325, 3326, 3329</th>\n",
       "      <td>7798</td>\n",
       "      <td>592</td>\n",
       "    </tr>\n",
       "    <tr>\n",
       "      <th>1133</th>\n",
       "      <th>Logging</th>\n",
       "      <td>6692</td>\n",
       "      <td>794</td>\n",
       "    </tr>\n",
       "    <tr>\n",
       "      <th>4881</th>\n",
       "      <th>Support Activities for Air Transportation</th>\n",
       "      <td>5373</td>\n",
       "      <td>507</td>\n",
       "    </tr>\n",
       "    <tr>\n",
       "      <th>3335</th>\n",
       "      <th>Metalworking Machinery Manufacturing</th>\n",
       "      <td>5141</td>\n",
       "      <td>455</td>\n",
       "    </tr>\n",
       "    <tr>\n",
       "      <th>2111</th>\n",
       "      <th>Oil and Gas Extraction</th>\n",
       "      <td>4874</td>\n",
       "      <td>376</td>\n",
       "    </tr>\n",
       "    <tr>\n",
       "      <th>3328</th>\n",
       "      <th>Coating, Engraving, Heat Treating, and Allied Activities</th>\n",
       "      <td>4617</td>\n",
       "      <td>421</td>\n",
       "    </tr>\n",
       "    <tr>\n",
       "      <th>3345</th>\n",
       "      <th>Navigational, Measuring, Electromedical, and Control Instruments Manufacturing</th>\n",
       "      <td>4431</td>\n",
       "      <td>348</td>\n",
       "    </tr>\n",
       "    <tr>\n",
       "      <th>3250A1</th>\n",
       "      <th>3251, 3252, 3253, 3259</th>\n",
       "      <td>4268</td>\n",
       "      <td>397</td>\n",
       "    </tr>\n",
       "    <tr>\n",
       "      <th>3363</th>\n",
       "      <th>Motor Vehicle Parts Manufacturing</th>\n",
       "      <td>3700</td>\n",
       "      <td>439</td>\n",
       "    </tr>\n",
       "    <tr>\n",
       "      <th>3119</th>\n",
       "      <th>Other Food Manufacturing</th>\n",
       "      <td>3528</td>\n",
       "      <td>346</td>\n",
       "    </tr>\n",
       "  </tbody>\n",
       "</table>\n",
       "</div>"
      ],
      "text/plain": [
       "                                                           est_sum  \\\n",
       "naics  DESCRIPTION                                                   \n",
       "5617   Services to Buildings and Dwellings                  220492   \n",
       "2382   Building Equipment Contractors                       193562   \n",
       "8111   Automotive Repair and Maintenance                    164584   \n",
       "2383   Building Finishing Contractors                       124074   \n",
       "5413   Architectural, Engineering, and Related Services     115269   \n",
       "2381   Foundation, Structure, and Building Exterior Co...   101383   \n",
       "7139   Other Amusement and Recreation Industries             76488   \n",
       "4413   Automotive Parts, Accessories, and Tire Stores        58112   \n",
       "5613   Employment Services                                   57057   \n",
       "4238   Machinery, Equipment, and Supplies Merchant Who...    54251   \n",
       "4411   Automobile Dealers                                    46317   \n",
       "2362   Nonresidential Building Construction                  40928   \n",
       "4231   Motor Vehicle and Motor Vehicle Parts and Suppl...    21491   \n",
       "3231   Printing and Related Support Activities               21376   \n",
       "3327   Machine Shops; Turned Product; and Screw, Nut, ...    20979   \n",
       "8113   Commercial and Industrial Machinery and Equipme...    20429   \n",
       "2371   Utility System Construction                           18133   \n",
       "5321   Automotive Equipment Rental and Leasing               14677   \n",
       "3399   Other Miscellaneous Manufacturing                     13607   \n",
       "3320A2 3323, 3323                                            12558   \n",
       "4412   Other Motor Vehicle Dealers                           12527   \n",
       "3370A1 3371, 3372                                            11709   \n",
       "2131   Support Activities for Mining                         10904   \n",
       "2211   Electric Power Generation, Transmission and Dis...    10545   \n",
       "3330A1 3331, 3332, 3334, 3339                                 9525   \n",
       "3261   Plastics Product Manufacturing                         8596   \n",
       "3391   Medical Equipment and Supplies Manufacturing           8350   \n",
       "5612   Facilities Support Services                            8331   \n",
       "3219   Other Wood Product Manufacturing                       8095   \n",
       "2373   Highway, Street, and Bridge Construction               8055   \n",
       "3320A1 3321, 3322, 3325, 3326, 3329                           7798   \n",
       "1133   Logging                                                6692   \n",
       "4881   Support Activities for Air Transportation              5373   \n",
       "3335   Metalworking Machinery Manufacturing                   5141   \n",
       "2111   Oil and Gas Extraction                                 4874   \n",
       "3328   Coating, Engraving, Heat Treating, and Allied A...     4617   \n",
       "3345   Navigational, Measuring, Electromedical, and Co...     4431   \n",
       "3250A1 3251, 3252, 3253, 3259                                 4268   \n",
       "3363   Motor Vehicle Parts Manufacturing                      3700   \n",
       "3119   Other Food Manufacturing                               3528   \n",
       "\n",
       "                                                           unique_FIPS  \n",
       "naics  DESCRIPTION                                                      \n",
       "5617   Services to Buildings and Dwellings                        2530  \n",
       "2382   Building Equipment Contractors                             2756  \n",
       "8111   Automotive Repair and Maintenance                          2725  \n",
       "2383   Building Finishing Contractors                             2040  \n",
       "5413   Architectural, Engineering, and Related Services           1924  \n",
       "2381   Foundation, Structure, and Building Exterior Co...         2313  \n",
       "7139   Other Amusement and Recreation Industries                  2182  \n",
       "4413   Automotive Parts, Accessories, and Tire Stores             2427  \n",
       "5613   Employment Services                                        1306  \n",
       "4238   Machinery, Equipment, and Supplies Merchant Who...         1947  \n",
       "4411   Automobile Dealers                                         1953  \n",
       "2362   Nonresidential Building Construction                       1687  \n",
       "4231   Motor Vehicle and Motor Vehicle Parts and Suppl...         1030  \n",
       "3231   Printing and Related Support Activities                    1116  \n",
       "3327   Machine Shops; Turned Product; and Screw, Nut, ...         1276  \n",
       "8113   Commercial and Industrial Machinery and Equipme...         1615  \n",
       "2371   Utility System Construction                                1559  \n",
       "5321   Automotive Equipment Rental and Leasing                     784  \n",
       "3399   Other Miscellaneous Manufacturing                           900  \n",
       "3320A2 3323, 3323                                                 1057  \n",
       "4412   Other Motor Vehicle Dealers                                1150  \n",
       "3370A1 3371, 3372                                                  861  \n",
       "2131   Support Activities for Mining                               624  \n",
       "2211   Electric Power Generation, Transmission and Dis...         1274  \n",
       "3330A1 3331, 3332, 3334, 3339                                      699  \n",
       "3261   Plastics Product Manufacturing                              763  \n",
       "3391   Medical Equipment and Supplies Manufacturing                587  \n",
       "5612   Facilities Support Services                                 606  \n",
       "3219   Other Wood Product Manufacturing                            967  \n",
       "2373   Highway, Street, and Bridge Construction                    905  \n",
       "3320A1 3321, 3322, 3325, 3326, 3329                                592  \n",
       "1133   Logging                                                     794  \n",
       "4881   Support Activities for Air Transportation                   507  \n",
       "3335   Metalworking Machinery Manufacturing                        455  \n",
       "2111   Oil and Gas Extraction                                      376  \n",
       "3328   Coating, Engraving, Heat Treating, and Allied A...          421  \n",
       "3345   Navigational, Measuring, Electromedical, and Co...          348  \n",
       "3250A1 3251, 3252, 3253, 3259                                      397  \n",
       "3363   Motor Vehicle Parts Manufacturing                           439  \n",
       "3119   Other Food Manufacturing                                    346  "
      ]
     },
     "execution_count": 68,
     "metadata": {},
     "output_type": "execute_result"
    }
   ],
   "source": [
    "result = df_pattern.groupby(['naics', 'DESCRIPTION']).agg(\n",
    "    est_sum=('est', 'sum'),             # Summe der Werte in der Spalte 'Wert'\n",
    "    unique_FIPS=('FIPS', 'nunique')  # Anzahl eindeutiger Werte in der Spalte 'Kategorie'\n",
    ").sort_values(by='est_sum', ascending=False)\n",
    "result.head(40)"
   ]
  },
  {
   "cell_type": "markdown",
   "id": "946bc25d-ec7e-4e7f-a25d-6beb8e724fc7",
   "metadata": {},
   "source": [
    "What is NAICS 3320A2 ? -- 3323, 3323\n",
    "\n",
    "https://www.bls.gov/oes/2023/may/naics4_3320A2.htm\n",
    "\n",
    "Fabricated Metal Product Manufacturing (3323 and 3324 only)\n",
    "\n",
    "- 3323: Architectural and Structural Metals Manufacturing\n",
    "- 3324: Boiler, Tank, and Shipping Container Manufacturing"
   ]
  },
  {
   "cell_type": "markdown",
   "id": "b7790908-2afc-484a-96f4-effa3d313e76",
   "metadata": {},
   "source": [
    "# Feature construction"
   ]
  },
  {
   "cell_type": "markdown",
   "id": "c8385288-9a39-4f01-8b19-611029cc1ea8",
   "metadata": {},
   "source": [
    "**How do you choose the most important and relevant industries?**"
   ]
  },
  {
   "cell_type": "markdown",
   "id": "894e570c-9d44-4398-b072-a2f1256b8edf",
   "metadata": {},
   "source": [
    "Viewed as a whole, the project has requirements from various sides:\n",
    "- Domain: tool consumption / employment\n",
    "- Modeling: clustering\n",
    "\n",
    "<br> For the **domain side**, it makes sense to choose industries that have a high share of employment and a high consumption of tools.\n",
    "<br> For the **modeling side**, it makes sense to cover as many regions as possible. Since we will later use a maximum of 15 features, it makes no sense to select industries that only occur in a very small number of regions. "
   ]
  },
  {
   "cell_type": "markdown",
   "id": "01c2e34b-7d9d-454a-a8d2-5862a447c5d6",
   "metadata": {},
   "source": [
    "## Domain"
   ]
  },
  {
   "cell_type": "markdown",
   "id": "f7054101-5dd0-48d6-9059-ecacf02a039e",
   "metadata": {
    "execution": {
     "iopub.execute_input": "2024-11-06T12:10:59.419053Z",
     "iopub.status.busy": "2024-11-06T12:10:59.418782Z",
     "iopub.status.idle": "2024-11-06T12:10:59.422107Z",
     "shell.execute_reply": "2024-11-06T12:10:59.421324Z",
     "shell.execute_reply.started": "2024-11-06T12:10:59.419032Z"
    }
   },
   "source": [
    "### Tool consumption"
   ]
  },
  {
   "cell_type": "markdown",
   "id": "edf8d93e-77f8-4eb3-9174-ab887561ad87",
   "metadata": {},
   "source": [
    "Here, the individual industries must be evaluated by **domain knowledge** with regard to their potential tool consumption.<br>\n",
    "We have ranked the industries before from 0-3 and averaged the rankings of the three team members."
   ]
  },
  {
   "cell_type": "code",
   "execution_count": 69,
   "id": "5d4755ba219e908a",
   "metadata": {
    "ExecuteTime": {
     "end_time": "2024-11-23T11:44:21.815150Z",
     "start_time": "2024-11-23T11:44:21.579069Z"
    }
   },
   "outputs": [
    {
     "data": {
      "text/plain": [
       "{1133: 1.33,\n",
       " 2111: 0.33,\n",
       " 2121: 0.33,\n",
       " 2122: 0.33,\n",
       " 2123: 0.33,\n",
       " 2131: 0.67,\n",
       " 2211: 0.0,\n",
       " 2212: 0.0,\n",
       " 2362: 2.0,\n",
       " 2371: 1.33,\n",
       " 2373: 2.67,\n",
       " 2379: 2.0,\n",
       " 2381: 1.67,\n",
       " 2382: 1.67,\n",
       " 2383: 1.0,\n",
       " 3119: 0.0,\n",
       " 3132: 0.0,\n",
       " 3211: 1.0,\n",
       " 3212: 0.33,\n",
       " 3219: 2.0,\n",
       " 3222: 0.33,\n",
       " 3231: 0.0,\n",
       " 3241: 0.33,\n",
       " 3261: 1.0,\n",
       " 3262: 0.0,\n",
       " 3311: 2.0,\n",
       " 3312: 2.67,\n",
       " 3313: 1.33,\n",
       " 3314: 2.0,\n",
       " 3315: 1.0,\n",
       " 3327: 2.0,\n",
       " 3328: 1.0,\n",
       " 3333: 1.33,\n",
       " 3335: 2.67,\n",
       " 3336: 1.67,\n",
       " 3344: 0.0,\n",
       " 3345: 0.67,\n",
       " 3361: 1.67,\n",
       " 3362: 1.33,\n",
       " 3363: 1.67,\n",
       " 3364: 3.0,\n",
       " 3365: 1.33,\n",
       " 3366: 1.67,\n",
       " 3391: 0.67,\n",
       " 3399: 2.0,\n",
       " 4231: 0.0,\n",
       " 4238: 1.0,\n",
       " 4411: 0.0,\n",
       " 4412: 0.0,\n",
       " 4413: 0.33,\n",
       " 4811: 0.0,\n",
       " 4812: 0.0,\n",
       " 4861: 0.0,\n",
       " 4862: 0.0,\n",
       " 4881: 0.67,\n",
       " 4882: 1.0,\n",
       " 5321: 0.0,\n",
       " 5413: 0.0,\n",
       " 5612: 0.33,\n",
       " 5613: 0.0,\n",
       " 5617: 1.0,\n",
       " 7139: 0.0,\n",
       " 8111: 2.33,\n",
       " 8113: 2.0,\n",
       " '3250A1': 0.0,\n",
       " '3320A1': 2.67,\n",
       " '3320A2': 3.0,\n",
       " '3330A1': 2.33,\n",
       " '3370A1': 1.67}"
      ]
     },
     "execution_count": 69,
     "metadata": {},
     "output_type": "execute_result"
    }
   ],
   "source": [
    "# Read rankings and create dict from them\n",
    "rankings_raw = pd.read_excel(data_path + \"ranking_industries.xlsx\")\n",
    "rankings = rankings_raw.set_index('naics')['industry_score'].to_dict()\n",
    "# rankings = {k:round(v,2) for k, v in rankings.items() if v >= 0.5}\n",
    "rankings"
   ]
  },
  {
   "cell_type": "code",
   "execution_count": 70,
   "id": "7deb2a91-0133-433e-b2a6-bddb3f3d0e2c",
   "metadata": {
    "ExecuteTime": {
     "end_time": "2024-11-23T11:44:21.866004Z",
     "start_time": "2024-11-23T11:44:21.828244Z"
    },
    "execution": {
     "iopub.execute_input": "2024-11-07T10:10:05.586656Z",
     "iopub.status.busy": "2024-11-07T10:10:05.585397Z",
     "iopub.status.idle": "2024-11-07T10:10:05.611194Z",
     "shell.execute_reply": "2024-11-07T10:10:05.610540Z",
     "shell.execute_reply.started": "2024-11-07T10:10:05.586631Z"
    }
   },
   "outputs": [
    {
     "data": {
      "text/html": [
       "<div>\n",
       "<style scoped>\n",
       "    .dataframe tbody tr th:only-of-type {\n",
       "        vertical-align: middle;\n",
       "    }\n",
       "\n",
       "    .dataframe tbody tr th {\n",
       "        vertical-align: top;\n",
       "    }\n",
       "\n",
       "    .dataframe thead th {\n",
       "        text-align: right;\n",
       "    }\n",
       "</style>\n",
       "<table border=\"1\" class=\"dataframe\">\n",
       "  <thead>\n",
       "    <tr style=\"text-align: right;\">\n",
       "      <th></th>\n",
       "      <th>State_GEOID</th>\n",
       "      <th>County_GEOID</th>\n",
       "      <th>FIPS</th>\n",
       "      <th>naics_2</th>\n",
       "      <th>naics</th>\n",
       "      <th>DESCRIPTION</th>\n",
       "      <th>emp_nf</th>\n",
       "      <th>emp</th>\n",
       "      <th>qp1_nf</th>\n",
       "      <th>qp1</th>\n",
       "      <th>...</th>\n",
       "      <th>n50_99</th>\n",
       "      <th>n100_249</th>\n",
       "      <th>n250_499</th>\n",
       "      <th>n500_999</th>\n",
       "      <th>n1000</th>\n",
       "      <th>n1000_1</th>\n",
       "      <th>n1000_2</th>\n",
       "      <th>n1000_3</th>\n",
       "      <th>n1000_4</th>\n",
       "      <th>tool_consumption</th>\n",
       "    </tr>\n",
       "  </thead>\n",
       "  <tbody>\n",
       "    <tr>\n",
       "      <th>0</th>\n",
       "      <td>01</td>\n",
       "      <td>001</td>\n",
       "      <td>01001</td>\n",
       "      <td>11</td>\n",
       "      <td>1133</td>\n",
       "      <td>Logging</td>\n",
       "      <td>G</td>\n",
       "      <td>68</td>\n",
       "      <td>G</td>\n",
       "      <td>1213</td>\n",
       "      <td>...</td>\n",
       "      <td>N</td>\n",
       "      <td>N</td>\n",
       "      <td>N</td>\n",
       "      <td>N</td>\n",
       "      <td>N</td>\n",
       "      <td>N</td>\n",
       "      <td>N</td>\n",
       "      <td>N</td>\n",
       "      <td>N</td>\n",
       "      <td>NaN</td>\n",
       "    </tr>\n",
       "    <tr>\n",
       "      <th>1</th>\n",
       "      <td>01</td>\n",
       "      <td>001</td>\n",
       "      <td>01001</td>\n",
       "      <td>21</td>\n",
       "      <td>2123</td>\n",
       "      <td>Nonmetallic Mineral Mining and Quarrying</td>\n",
       "      <td>G</td>\n",
       "      <td>87</td>\n",
       "      <td>G</td>\n",
       "      <td>1224</td>\n",
       "      <td>...</td>\n",
       "      <td>N</td>\n",
       "      <td>N</td>\n",
       "      <td>N</td>\n",
       "      <td>N</td>\n",
       "      <td>N</td>\n",
       "      <td>N</td>\n",
       "      <td>N</td>\n",
       "      <td>N</td>\n",
       "      <td>N</td>\n",
       "      <td>NaN</td>\n",
       "    </tr>\n",
       "    <tr>\n",
       "      <th>2</th>\n",
       "      <td>01</td>\n",
       "      <td>001</td>\n",
       "      <td>01001</td>\n",
       "      <td>22</td>\n",
       "      <td>2211</td>\n",
       "      <td>Electric Power Generation, Transmission and Di...</td>\n",
       "      <td>G</td>\n",
       "      <td>129</td>\n",
       "      <td>G</td>\n",
       "      <td>4418</td>\n",
       "      <td>...</td>\n",
       "      <td>N</td>\n",
       "      <td>N</td>\n",
       "      <td>N</td>\n",
       "      <td>N</td>\n",
       "      <td>N</td>\n",
       "      <td>N</td>\n",
       "      <td>N</td>\n",
       "      <td>N</td>\n",
       "      <td>N</td>\n",
       "      <td>NaN</td>\n",
       "    </tr>\n",
       "  </tbody>\n",
       "</table>\n",
       "<p>3 rows × 27 columns</p>\n",
       "</div>"
      ],
      "text/plain": [
       "  State_GEOID County_GEOID   FIPS naics_2 naics  \\\n",
       "0          01          001  01001      11  1133   \n",
       "1          01          001  01001      21  2123   \n",
       "2          01          001  01001      22  2211   \n",
       "\n",
       "                                         DESCRIPTION emp_nf  emp qp1_nf   qp1  \\\n",
       "0                                            Logging      G   68      G  1213   \n",
       "1           Nonmetallic Mineral Mining and Quarrying      G   87      G  1224   \n",
       "2  Electric Power Generation, Transmission and Di...      G  129      G  4418   \n",
       "\n",
       "   ... n50_99  n100_249  n250_499 n500_999 n1000 n1000_1 n1000_2 n1000_3  \\\n",
       "0  ...      N         N         N        N     N       N       N       N   \n",
       "1  ...      N         N         N        N     N       N       N       N   \n",
       "2  ...      N         N         N        N     N       N       N       N   \n",
       "\n",
       "  n1000_4 tool_consumption  \n",
       "0       N              NaN  \n",
       "1       N              NaN  \n",
       "2       N              NaN  \n",
       "\n",
       "[3 rows x 27 columns]"
      ]
     },
     "execution_count": 70,
     "metadata": {},
     "output_type": "execute_result"
    }
   ],
   "source": [
    "# Assign rankings to each entry\n",
    "df_pattern['tool_consumption'] = df_pattern['naics'].map(rankings)\n",
    "df_pattern['tool_consumption'] = df_pattern['tool_consumption'].apply(lambda x: round(x,2))\n",
    "df_pattern.head(3)"
   ]
  },
  {
   "cell_type": "code",
   "execution_count": 71,
   "id": "a05492f2703b5f19",
   "metadata": {
    "ExecuteTime": {
     "end_time": "2024-11-23T11:44:22.483277Z",
     "start_time": "2024-11-23T11:44:22.424351Z"
    }
   },
   "outputs": [
    {
     "data": {
      "text/html": [
       "<div>\n",
       "<style scoped>\n",
       "    .dataframe tbody tr th:only-of-type {\n",
       "        vertical-align: middle;\n",
       "    }\n",
       "\n",
       "    .dataframe tbody tr th {\n",
       "        vertical-align: top;\n",
       "    }\n",
       "\n",
       "    .dataframe thead th {\n",
       "        text-align: right;\n",
       "    }\n",
       "</style>\n",
       "<table border=\"1\" class=\"dataframe\">\n",
       "  <thead>\n",
       "    <tr style=\"text-align: right;\">\n",
       "      <th></th>\n",
       "      <th>index</th>\n",
       "      <th>State_GEOID</th>\n",
       "      <th>County_GEOID</th>\n",
       "      <th>FIPS</th>\n",
       "      <th>naics_2</th>\n",
       "      <th>naics</th>\n",
       "      <th>DESCRIPTION</th>\n",
       "      <th>emp_nf</th>\n",
       "      <th>emp</th>\n",
       "      <th>qp1_nf</th>\n",
       "      <th>...</th>\n",
       "      <th>n50_99</th>\n",
       "      <th>n100_249</th>\n",
       "      <th>n250_499</th>\n",
       "      <th>n500_999</th>\n",
       "      <th>n1000</th>\n",
       "      <th>n1000_1</th>\n",
       "      <th>n1000_2</th>\n",
       "      <th>n1000_3</th>\n",
       "      <th>n1000_4</th>\n",
       "      <th>tool_consumption</th>\n",
       "    </tr>\n",
       "  </thead>\n",
       "  <tbody>\n",
       "    <tr>\n",
       "      <th>0</th>\n",
       "      <td>79</td>\n",
       "      <td>01</td>\n",
       "      <td>003</td>\n",
       "      <td>01003</td>\n",
       "      <td>33</td>\n",
       "      <td>3320A2</td>\n",
       "      <td>3323, 3323</td>\n",
       "      <td>G</td>\n",
       "      <td>122</td>\n",
       "      <td>G</td>\n",
       "      <td>...</td>\n",
       "      <td>N</td>\n",
       "      <td>N</td>\n",
       "      <td>N</td>\n",
       "      <td>N</td>\n",
       "      <td>N</td>\n",
       "      <td>N</td>\n",
       "      <td>N</td>\n",
       "      <td>N</td>\n",
       "      <td>N</td>\n",
       "      <td>3.00</td>\n",
       "    </tr>\n",
       "    <tr>\n",
       "      <th>1</th>\n",
       "      <td>81</td>\n",
       "      <td>01</td>\n",
       "      <td>003</td>\n",
       "      <td>01003</td>\n",
       "      <td>33</td>\n",
       "      <td>3320A1</td>\n",
       "      <td>3321, 3322, 3325, 3326, 3329</td>\n",
       "      <td>J</td>\n",
       "      <td>72</td>\n",
       "      <td>J</td>\n",
       "      <td>...</td>\n",
       "      <td>N</td>\n",
       "      <td>N</td>\n",
       "      <td>N</td>\n",
       "      <td>N</td>\n",
       "      <td>N</td>\n",
       "      <td>N</td>\n",
       "      <td>N</td>\n",
       "      <td>N</td>\n",
       "      <td>N</td>\n",
       "      <td>2.67</td>\n",
       "    </tr>\n",
       "    <tr>\n",
       "      <th>2</th>\n",
       "      <td>82</td>\n",
       "      <td>01</td>\n",
       "      <td>003</td>\n",
       "      <td>01003</td>\n",
       "      <td>33</td>\n",
       "      <td>3330A1</td>\n",
       "      <td>3331, 3332, 3334, 3339</td>\n",
       "      <td>J</td>\n",
       "      <td>247</td>\n",
       "      <td>H</td>\n",
       "      <td>...</td>\n",
       "      <td>N</td>\n",
       "      <td>N</td>\n",
       "      <td>N</td>\n",
       "      <td>N</td>\n",
       "      <td>N</td>\n",
       "      <td>N</td>\n",
       "      <td>N</td>\n",
       "      <td>N</td>\n",
       "      <td>N</td>\n",
       "      <td>2.33</td>\n",
       "    </tr>\n",
       "    <tr>\n",
       "      <th>3</th>\n",
       "      <td>85</td>\n",
       "      <td>01</td>\n",
       "      <td>003</td>\n",
       "      <td>01003</td>\n",
       "      <td>33</td>\n",
       "      <td>3370A1</td>\n",
       "      <td>3371, 3372</td>\n",
       "      <td>G</td>\n",
       "      <td>194</td>\n",
       "      <td>G</td>\n",
       "      <td>...</td>\n",
       "      <td>N</td>\n",
       "      <td>N</td>\n",
       "      <td>N</td>\n",
       "      <td>N</td>\n",
       "      <td>N</td>\n",
       "      <td>N</td>\n",
       "      <td>N</td>\n",
       "      <td>N</td>\n",
       "      <td>N</td>\n",
       "      <td>1.67</td>\n",
       "    </tr>\n",
       "    <tr>\n",
       "      <th>4</th>\n",
       "      <td>260</td>\n",
       "      <td>01</td>\n",
       "      <td>009</td>\n",
       "      <td>01009</td>\n",
       "      <td>33</td>\n",
       "      <td>3320A2</td>\n",
       "      <td>3323, 3323</td>\n",
       "      <td>G</td>\n",
       "      <td>95</td>\n",
       "      <td>G</td>\n",
       "      <td>...</td>\n",
       "      <td>N</td>\n",
       "      <td>N</td>\n",
       "      <td>N</td>\n",
       "      <td>N</td>\n",
       "      <td>N</td>\n",
       "      <td>N</td>\n",
       "      <td>N</td>\n",
       "      <td>N</td>\n",
       "      <td>N</td>\n",
       "      <td>3.00</td>\n",
       "    </tr>\n",
       "    <tr>\n",
       "      <th>...</th>\n",
       "      <td>...</td>\n",
       "      <td>...</td>\n",
       "      <td>...</td>\n",
       "      <td>...</td>\n",
       "      <td>...</td>\n",
       "      <td>...</td>\n",
       "      <td>...</td>\n",
       "      <td>...</td>\n",
       "      <td>...</td>\n",
       "      <td>...</td>\n",
       "      <td>...</td>\n",
       "      <td>...</td>\n",
       "      <td>...</td>\n",
       "      <td>...</td>\n",
       "      <td>...</td>\n",
       "      <td>...</td>\n",
       "      <td>...</td>\n",
       "      <td>...</td>\n",
       "      <td>...</td>\n",
       "      <td>...</td>\n",
       "      <td>...</td>\n",
       "    </tr>\n",
       "    <tr>\n",
       "      <th>4463</th>\n",
       "      <td>187968</td>\n",
       "      <td>56</td>\n",
       "      <td>025</td>\n",
       "      <td>56025</td>\n",
       "      <td>33</td>\n",
       "      <td>3370A1</td>\n",
       "      <td>3371, 3372</td>\n",
       "      <td>G</td>\n",
       "      <td>22</td>\n",
       "      <td>H</td>\n",
       "      <td>...</td>\n",
       "      <td>N</td>\n",
       "      <td>N</td>\n",
       "      <td>N</td>\n",
       "      <td>N</td>\n",
       "      <td>N</td>\n",
       "      <td>N</td>\n",
       "      <td>N</td>\n",
       "      <td>N</td>\n",
       "      <td>N</td>\n",
       "      <td>1.67</td>\n",
       "    </tr>\n",
       "    <tr>\n",
       "      <th>4464</th>\n",
       "      <td>188088</td>\n",
       "      <td>56</td>\n",
       "      <td>029</td>\n",
       "      <td>56029</td>\n",
       "      <td>33</td>\n",
       "      <td>3320A1</td>\n",
       "      <td>3321, 3322, 3325, 3326, 3329</td>\n",
       "      <td>J</td>\n",
       "      <td>14</td>\n",
       "      <td>G</td>\n",
       "      <td>...</td>\n",
       "      <td>N</td>\n",
       "      <td>N</td>\n",
       "      <td>N</td>\n",
       "      <td>N</td>\n",
       "      <td>N</td>\n",
       "      <td>N</td>\n",
       "      <td>N</td>\n",
       "      <td>N</td>\n",
       "      <td>N</td>\n",
       "      <td>2.67</td>\n",
       "    </tr>\n",
       "    <tr>\n",
       "      <th>4465</th>\n",
       "      <td>188188</td>\n",
       "      <td>56</td>\n",
       "      <td>033</td>\n",
       "      <td>56033</td>\n",
       "      <td>33</td>\n",
       "      <td>3320A2</td>\n",
       "      <td>3323, 3323</td>\n",
       "      <td>J</td>\n",
       "      <td>32</td>\n",
       "      <td>J</td>\n",
       "      <td>...</td>\n",
       "      <td>N</td>\n",
       "      <td>N</td>\n",
       "      <td>N</td>\n",
       "      <td>N</td>\n",
       "      <td>N</td>\n",
       "      <td>N</td>\n",
       "      <td>N</td>\n",
       "      <td>N</td>\n",
       "      <td>N</td>\n",
       "      <td>3.00</td>\n",
       "    </tr>\n",
       "    <tr>\n",
       "      <th>4466</th>\n",
       "      <td>188391</td>\n",
       "      <td>56</td>\n",
       "      <td>039</td>\n",
       "      <td>56039</td>\n",
       "      <td>33</td>\n",
       "      <td>3320A2</td>\n",
       "      <td>3323, 3323</td>\n",
       "      <td>J</td>\n",
       "      <td>10</td>\n",
       "      <td>H</td>\n",
       "      <td>...</td>\n",
       "      <td>N</td>\n",
       "      <td>N</td>\n",
       "      <td>N</td>\n",
       "      <td>N</td>\n",
       "      <td>N</td>\n",
       "      <td>N</td>\n",
       "      <td>N</td>\n",
       "      <td>N</td>\n",
       "      <td>N</td>\n",
       "      <td>3.00</td>\n",
       "    </tr>\n",
       "    <tr>\n",
       "      <th>4467</th>\n",
       "      <td>188393</td>\n",
       "      <td>56</td>\n",
       "      <td>039</td>\n",
       "      <td>56039</td>\n",
       "      <td>33</td>\n",
       "      <td>3370A1</td>\n",
       "      <td>3371, 3372</td>\n",
       "      <td>J</td>\n",
       "      <td>4</td>\n",
       "      <td>J</td>\n",
       "      <td>...</td>\n",
       "      <td>N</td>\n",
       "      <td>N</td>\n",
       "      <td>N</td>\n",
       "      <td>N</td>\n",
       "      <td>N</td>\n",
       "      <td>N</td>\n",
       "      <td>N</td>\n",
       "      <td>N</td>\n",
       "      <td>N</td>\n",
       "      <td>1.67</td>\n",
       "    </tr>\n",
       "  </tbody>\n",
       "</table>\n",
       "<p>4468 rows × 28 columns</p>\n",
       "</div>"
      ],
      "text/plain": [
       "       index State_GEOID County_GEOID   FIPS naics_2   naics  \\\n",
       "0         79          01          003  01003      33  3320A2   \n",
       "1         81          01          003  01003      33  3320A1   \n",
       "2         82          01          003  01003      33  3330A1   \n",
       "3         85          01          003  01003      33  3370A1   \n",
       "4        260          01          009  01009      33  3320A2   \n",
       "...      ...         ...          ...    ...     ...     ...   \n",
       "4463  187968          56          025  56025      33  3370A1   \n",
       "4464  188088          56          029  56029      33  3320A1   \n",
       "4465  188188          56          033  56033      33  3320A2   \n",
       "4466  188391          56          039  56039      33  3320A2   \n",
       "4467  188393          56          039  56039      33  3370A1   \n",
       "\n",
       "                       DESCRIPTION emp_nf  emp qp1_nf  ...  n50_99 n100_249  \\\n",
       "0                       3323, 3323      G  122      G  ...       N        N   \n",
       "1     3321, 3322, 3325, 3326, 3329      J   72      J  ...       N        N   \n",
       "2           3331, 3332, 3334, 3339      J  247      H  ...       N        N   \n",
       "3                       3371, 3372      G  194      G  ...       N        N   \n",
       "4                       3323, 3323      G   95      G  ...       N        N   \n",
       "...                            ...    ...  ...    ...  ...     ...      ...   \n",
       "4463                    3371, 3372      G   22      H  ...       N        N   \n",
       "4464  3321, 3322, 3325, 3326, 3329      J   14      G  ...       N        N   \n",
       "4465                    3323, 3323      J   32      J  ...       N        N   \n",
       "4466                    3323, 3323      J   10      H  ...       N        N   \n",
       "4467                    3371, 3372      J    4      J  ...       N        N   \n",
       "\n",
       "      n250_499  n500_999 n1000 n1000_1 n1000_2 n1000_3 n1000_4  \\\n",
       "0            N         N     N       N       N       N       N   \n",
       "1            N         N     N       N       N       N       N   \n",
       "2            N         N     N       N       N       N       N   \n",
       "3            N         N     N       N       N       N       N   \n",
       "4            N         N     N       N       N       N       N   \n",
       "...        ...       ...   ...     ...     ...     ...     ...   \n",
       "4463         N         N     N       N       N       N       N   \n",
       "4464         N         N     N       N       N       N       N   \n",
       "4465         N         N     N       N       N       N       N   \n",
       "4466         N         N     N       N       N       N       N   \n",
       "4467         N         N     N       N       N       N       N   \n",
       "\n",
       "     tool_consumption  \n",
       "0                3.00  \n",
       "1                2.67  \n",
       "2                2.33  \n",
       "3                1.67  \n",
       "4                3.00  \n",
       "...               ...  \n",
       "4463             1.67  \n",
       "4464             2.67  \n",
       "4465             3.00  \n",
       "4466             3.00  \n",
       "4467             1.67  \n",
       "\n",
       "[4468 rows x 28 columns]"
      ]
     },
     "execution_count": 71,
     "metadata": {},
     "output_type": "execute_result"
    }
   ],
   "source": [
    "# Remove industries where tool consumption is smaller than 0.5\n",
    "df_pattern = df_pattern[df_pattern['tool_consumption'] >= 0.5].reset_index()\n",
    "df_pattern"
   ]
  },
  {
   "cell_type": "markdown",
   "id": "1de13f68-f9c4-4e02-b523-3cb5aa2a01a3",
   "metadata": {},
   "source": [
    "### Share of Employment"
   ]
  },
  {
   "cell_type": "code",
   "execution_count": 72,
   "id": "6b081b92-e87a-491e-94a3-a35ca300147f",
   "metadata": {
    "ExecuteTime": {
     "end_time": "2024-11-23T11:44:23.149355Z",
     "start_time": "2024-11-23T11:44:23.124476Z"
    },
    "execution": {
     "iopub.execute_input": "2024-11-07T11:23:58.297357Z",
     "iopub.status.busy": "2024-11-07T11:23:58.297108Z",
     "iopub.status.idle": "2024-11-07T11:23:58.319638Z",
     "shell.execute_reply": "2024-11-07T11:23:58.318930Z",
     "shell.execute_reply.started": "2024-11-07T11:23:58.297333Z"
    }
   },
   "outputs": [
    {
     "data": {
      "text/html": [
       "<div>\n",
       "<style scoped>\n",
       "    .dataframe tbody tr th:only-of-type {\n",
       "        vertical-align: middle;\n",
       "    }\n",
       "\n",
       "    .dataframe tbody tr th {\n",
       "        vertical-align: top;\n",
       "    }\n",
       "\n",
       "    .dataframe thead th {\n",
       "        text-align: right;\n",
       "    }\n",
       "</style>\n",
       "<table border=\"1\" class=\"dataframe\">\n",
       "  <thead>\n",
       "    <tr style=\"text-align: right;\">\n",
       "      <th></th>\n",
       "      <th></th>\n",
       "      <th>emp_sum</th>\n",
       "    </tr>\n",
       "    <tr>\n",
       "      <th>naics</th>\n",
       "      <th>DESCRIPTION</th>\n",
       "      <th></th>\n",
       "    </tr>\n",
       "  </thead>\n",
       "  <tbody>\n",
       "    <tr>\n",
       "      <th>3330A1</th>\n",
       "      <th>3331, 3332, 3334, 3339</th>\n",
       "      <td>488895</td>\n",
       "    </tr>\n",
       "    <tr>\n",
       "      <th>3320A2</th>\n",
       "      <th>3323, 3323</th>\n",
       "      <td>343891</td>\n",
       "    </tr>\n",
       "    <tr>\n",
       "      <th>3320A1</th>\n",
       "      <th>3321, 3322, 3325, 3326, 3329</th>\n",
       "      <td>315026</td>\n",
       "    </tr>\n",
       "    <tr>\n",
       "      <th>3370A1</th>\n",
       "      <th>3371, 3372</th>\n",
       "      <td>257375</td>\n",
       "    </tr>\n",
       "  </tbody>\n",
       "</table>\n",
       "</div>"
      ],
      "text/plain": [
       "                                     emp_sum\n",
       "naics  DESCRIPTION                          \n",
       "3330A1 3331, 3332, 3334, 3339         488895\n",
       "3320A2 3323, 3323                     343891\n",
       "3320A1 3321, 3322, 3325, 3326, 3329   315026\n",
       "3370A1 3371, 3372                     257375"
      ]
     },
     "execution_count": 72,
     "metadata": {},
     "output_type": "execute_result"
    }
   ],
   "source": [
    "df_pattern.groupby(['naics', 'DESCRIPTION']).agg(\n",
    "    emp_sum=('emp', 'sum')             # Sum of values in the 'emp' column\n",
    "      ).sort_values(by='emp_sum', ascending=False)"
   ]
  },
  {
   "cell_type": "markdown",
   "id": "c8a3eac4-0bcb-48b2-9243-1aac40f89120",
   "metadata": {},
   "source": [
    "## Modeling "
   ]
  },
  {
   "cell_type": "markdown",
   "id": "1ddb86d3-eb78-4212-b25c-e9030a47ca80",
   "metadata": {},
   "source": [
    "### Unique FIPS"
   ]
  },
  {
   "cell_type": "code",
   "execution_count": 73,
   "id": "9f8d3010-9976-48b3-852d-222fade47382",
   "metadata": {
    "ExecuteTime": {
     "end_time": "2024-11-23T11:44:24.526178Z",
     "start_time": "2024-11-23T11:44:24.498883Z"
    },
    "execution": {
     "iopub.execute_input": "2024-11-07T11:24:21.472055Z",
     "iopub.status.busy": "2024-11-07T11:24:21.471829Z",
     "iopub.status.idle": "2024-11-07T11:24:21.497328Z",
     "shell.execute_reply": "2024-11-07T11:24:21.496703Z",
     "shell.execute_reply.started": "2024-11-07T11:24:21.472033Z"
    }
   },
   "outputs": [
    {
     "data": {
      "text/html": [
       "<div>\n",
       "<style scoped>\n",
       "    .dataframe tbody tr th:only-of-type {\n",
       "        vertical-align: middle;\n",
       "    }\n",
       "\n",
       "    .dataframe tbody tr th {\n",
       "        vertical-align: top;\n",
       "    }\n",
       "\n",
       "    .dataframe thead th {\n",
       "        text-align: right;\n",
       "    }\n",
       "</style>\n",
       "<table border=\"1\" class=\"dataframe\">\n",
       "  <thead>\n",
       "    <tr style=\"text-align: right;\">\n",
       "      <th></th>\n",
       "      <th></th>\n",
       "      <th>unique_FIPS</th>\n",
       "    </tr>\n",
       "    <tr>\n",
       "      <th>naics</th>\n",
       "      <th>DESCRIPTION</th>\n",
       "      <th></th>\n",
       "    </tr>\n",
       "  </thead>\n",
       "  <tbody>\n",
       "    <tr>\n",
       "      <th>3320A2</th>\n",
       "      <th>3323, 3323</th>\n",
       "      <td>1057</td>\n",
       "    </tr>\n",
       "    <tr>\n",
       "      <th>3370A1</th>\n",
       "      <th>3371, 3372</th>\n",
       "      <td>861</td>\n",
       "    </tr>\n",
       "    <tr>\n",
       "      <th>3330A1</th>\n",
       "      <th>3331, 3332, 3334, 3339</th>\n",
       "      <td>699</td>\n",
       "    </tr>\n",
       "    <tr>\n",
       "      <th>3320A1</th>\n",
       "      <th>3321, 3322, 3325, 3326, 3329</th>\n",
       "      <td>592</td>\n",
       "    </tr>\n",
       "  </tbody>\n",
       "</table>\n",
       "</div>"
      ],
      "text/plain": [
       "                                     unique_FIPS\n",
       "naics  DESCRIPTION                              \n",
       "3320A2 3323, 3323                           1057\n",
       "3370A1 3371, 3372                            861\n",
       "3330A1 3331, 3332, 3334, 3339                699\n",
       "3320A1 3321, 3322, 3325, 3326, 3329          592"
      ]
     },
     "execution_count": 73,
     "metadata": {},
     "output_type": "execute_result"
    }
   ],
   "source": [
    "df_pattern.groupby(['naics', 'DESCRIPTION']).agg(\n",
    "    unique_FIPS=('FIPS', 'nunique')            # Count of unique values in the 'FIPS' column\n",
    "      # Count of unique values in the 'category' column\n",
    ").sort_values(by='unique_FIPS', ascending=False)"
   ]
  },
  {
   "cell_type": "markdown",
   "id": "5eedb574-8e06-4532-ab73-fc7b6b704803",
   "metadata": {},
   "source": [
    "## Ranking"
   ]
  },
  {
   "cell_type": "code",
   "execution_count": 74,
   "id": "ea23cdf5-9876-4ae5-9da9-259352422930",
   "metadata": {
    "ExecuteTime": {
     "end_time": "2024-11-23T11:44:25.827833Z",
     "start_time": "2024-11-23T11:44:25.805566Z"
    },
    "execution": {
     "iopub.execute_input": "2024-11-07T11:25:54.366594Z",
     "iopub.status.busy": "2024-11-07T11:25:54.366346Z",
     "iopub.status.idle": "2024-11-07T11:25:54.397115Z",
     "shell.execute_reply": "2024-11-07T11:25:54.396580Z",
     "shell.execute_reply.started": "2024-11-07T11:25:54.366570Z"
    }
   },
   "outputs": [
    {
     "data": {
      "text/html": [
       "<div>\n",
       "<style scoped>\n",
       "    .dataframe tbody tr th:only-of-type {\n",
       "        vertical-align: middle;\n",
       "    }\n",
       "\n",
       "    .dataframe tbody tr th {\n",
       "        vertical-align: top;\n",
       "    }\n",
       "\n",
       "    .dataframe thead th {\n",
       "        text-align: right;\n",
       "    }\n",
       "</style>\n",
       "<table border=\"1\" class=\"dataframe\">\n",
       "  <thead>\n",
       "    <tr style=\"text-align: right;\">\n",
       "      <th></th>\n",
       "      <th>naics</th>\n",
       "      <th>DESCRIPTION</th>\n",
       "      <th>tool_consumption</th>\n",
       "      <th>emp_sum</th>\n",
       "      <th>est_sum</th>\n",
       "      <th>unique_FIPS</th>\n",
       "    </tr>\n",
       "  </thead>\n",
       "  <tbody>\n",
       "    <tr>\n",
       "      <th>0</th>\n",
       "      <td>3330A1</td>\n",
       "      <td>3331, 3332, 3334, 3339</td>\n",
       "      <td>2.33</td>\n",
       "      <td>488895</td>\n",
       "      <td>9525</td>\n",
       "      <td>699</td>\n",
       "    </tr>\n",
       "    <tr>\n",
       "      <th>1</th>\n",
       "      <td>3320A2</td>\n",
       "      <td>3323, 3323</td>\n",
       "      <td>3.00</td>\n",
       "      <td>343891</td>\n",
       "      <td>12558</td>\n",
       "      <td>1057</td>\n",
       "    </tr>\n",
       "    <tr>\n",
       "      <th>2</th>\n",
       "      <td>3320A1</td>\n",
       "      <td>3321, 3322, 3325, 3326, 3329</td>\n",
       "      <td>2.67</td>\n",
       "      <td>315026</td>\n",
       "      <td>7798</td>\n",
       "      <td>592</td>\n",
       "    </tr>\n",
       "    <tr>\n",
       "      <th>3</th>\n",
       "      <td>3370A1</td>\n",
       "      <td>3371, 3372</td>\n",
       "      <td>1.67</td>\n",
       "      <td>257375</td>\n",
       "      <td>11709</td>\n",
       "      <td>861</td>\n",
       "    </tr>\n",
       "  </tbody>\n",
       "</table>\n",
       "</div>"
      ],
      "text/plain": [
       "    naics                   DESCRIPTION  tool_consumption  emp_sum  est_sum  \\\n",
       "0  3330A1        3331, 3332, 3334, 3339              2.33   488895     9525   \n",
       "1  3320A2                    3323, 3323              3.00   343891    12558   \n",
       "2  3320A1  3321, 3322, 3325, 3326, 3329              2.67   315026     7798   \n",
       "3  3370A1                    3371, 3372              1.67   257375    11709   \n",
       "\n",
       "   unique_FIPS  \n",
       "0          699  \n",
       "1         1057  \n",
       "2          592  \n",
       "3          861  "
      ]
     },
     "execution_count": 74,
     "metadata": {},
     "output_type": "execute_result"
    }
   ],
   "source": [
    "result = df_pattern.groupby(['naics', 'DESCRIPTION', 'tool_consumption']).agg(\n",
    "    emp_sum=('emp', 'sum'), # Sum of values in the 'emp' column\n",
    "    est_sum=('est', 'sum'), # Sum of values in the 'est' column\n",
    "    unique_FIPS=('FIPS', 'nunique')    # Count of unique values in the 'FIPS' column\n",
    ").sort_values(by='emp_sum', ascending=False).reset_index()\n",
    "\n",
    "# Display the first 40 rows\n",
    "result"
   ]
  },
  {
   "cell_type": "code",
   "execution_count": 75,
   "id": "f2554cad-97eb-4867-a971-cd86c84101c3",
   "metadata": {
    "ExecuteTime": {
     "end_time": "2024-11-23T11:44:26.528264Z",
     "start_time": "2024-11-23T11:44:26.507461Z"
    },
    "execution": {
     "iopub.execute_input": "2024-11-07T11:26:54.971607Z",
     "iopub.status.busy": "2024-11-07T11:26:54.971337Z",
     "iopub.status.idle": "2024-11-07T11:26:54.986179Z",
     "shell.execute_reply": "2024-11-07T11:26:54.985550Z",
     "shell.execute_reply.started": "2024-11-07T11:26:54.971583Z"
    }
   },
   "outputs": [
    {
     "data": {
      "text/html": [
       "<div>\n",
       "<style scoped>\n",
       "    .dataframe tbody tr th:only-of-type {\n",
       "        vertical-align: middle;\n",
       "    }\n",
       "\n",
       "    .dataframe tbody tr th {\n",
       "        vertical-align: top;\n",
       "    }\n",
       "\n",
       "    .dataframe thead th {\n",
       "        text-align: right;\n",
       "    }\n",
       "</style>\n",
       "<table border=\"1\" class=\"dataframe\">\n",
       "  <thead>\n",
       "    <tr style=\"text-align: right;\">\n",
       "      <th></th>\n",
       "      <th>naics</th>\n",
       "      <th>DESCRIPTION</th>\n",
       "      <th>tool_consumption</th>\n",
       "      <th>emp_sum</th>\n",
       "      <th>est_sum</th>\n",
       "      <th>unique_FIPS</th>\n",
       "      <th>rank_tool_consumption</th>\n",
       "      <th>rank_emp_sum</th>\n",
       "      <th>rank_est_sum</th>\n",
       "      <th>rank_unique_FIPS</th>\n",
       "    </tr>\n",
       "  </thead>\n",
       "  <tbody>\n",
       "    <tr>\n",
       "      <th>0</th>\n",
       "      <td>3330A1</td>\n",
       "      <td>3331, 3332, 3334, 3339</td>\n",
       "      <td>2.33</td>\n",
       "      <td>488895</td>\n",
       "      <td>9525</td>\n",
       "      <td>699</td>\n",
       "      <td>3</td>\n",
       "      <td>1</td>\n",
       "      <td>3</td>\n",
       "      <td>3</td>\n",
       "    </tr>\n",
       "    <tr>\n",
       "      <th>1</th>\n",
       "      <td>3320A2</td>\n",
       "      <td>3323, 3323</td>\n",
       "      <td>3.00</td>\n",
       "      <td>343891</td>\n",
       "      <td>12558</td>\n",
       "      <td>1057</td>\n",
       "      <td>1</td>\n",
       "      <td>2</td>\n",
       "      <td>1</td>\n",
       "      <td>1</td>\n",
       "    </tr>\n",
       "    <tr>\n",
       "      <th>2</th>\n",
       "      <td>3320A1</td>\n",
       "      <td>3321, 3322, 3325, 3326, 3329</td>\n",
       "      <td>2.67</td>\n",
       "      <td>315026</td>\n",
       "      <td>7798</td>\n",
       "      <td>592</td>\n",
       "      <td>2</td>\n",
       "      <td>3</td>\n",
       "      <td>4</td>\n",
       "      <td>4</td>\n",
       "    </tr>\n",
       "    <tr>\n",
       "      <th>3</th>\n",
       "      <td>3370A1</td>\n",
       "      <td>3371, 3372</td>\n",
       "      <td>1.67</td>\n",
       "      <td>257375</td>\n",
       "      <td>11709</td>\n",
       "      <td>861</td>\n",
       "      <td>4</td>\n",
       "      <td>4</td>\n",
       "      <td>2</td>\n",
       "      <td>2</td>\n",
       "    </tr>\n",
       "  </tbody>\n",
       "</table>\n",
       "</div>"
      ],
      "text/plain": [
       "    naics                   DESCRIPTION  tool_consumption  emp_sum  est_sum  \\\n",
       "0  3330A1        3331, 3332, 3334, 3339              2.33   488895     9525   \n",
       "1  3320A2                    3323, 3323              3.00   343891    12558   \n",
       "2  3320A1  3321, 3322, 3325, 3326, 3329              2.67   315026     7798   \n",
       "3  3370A1                    3371, 3372              1.67   257375    11709   \n",
       "\n",
       "   unique_FIPS  rank_tool_consumption  rank_emp_sum  rank_est_sum  \\\n",
       "0          699                      3             1             3   \n",
       "1         1057                      1             2             1   \n",
       "2          592                      2             3             4   \n",
       "3          861                      4             4             2   \n",
       "\n",
       "   rank_unique_FIPS  \n",
       "0                 3  \n",
       "1                 1  \n",
       "2                 4  \n",
       "3                 2  "
      ]
     },
     "execution_count": 75,
     "metadata": {},
     "output_type": "execute_result"
    }
   ],
   "source": [
    "# Create a copy of the DataFrame\n",
    "result_copy = result.copy()\n",
    "\n",
    "# Calculate rank for all columns starting from 'tool_consumption', with equal values having the same rank\n",
    "for column in result_copy.columns[result_copy.columns.get_loc('tool_consumption'):]:\n",
    "    rank_column_name = f'rank_{column}'\n",
    "    result_copy[rank_column_name] = result_copy[column].rank(method='min', ascending=False).astype(int)\n",
    "\n",
    "# Display the first few rows of the copied data\n",
    "result_copy.head()"
   ]
  },
  {
   "cell_type": "code",
   "execution_count": 76,
   "id": "873ff3bc-dc91-48e6-892c-7475cb1fdad3",
   "metadata": {
    "ExecuteTime": {
     "end_time": "2024-11-23T11:44:27.207921Z",
     "start_time": "2024-11-23T11:44:27.194414Z"
    },
    "execution": {
     "iopub.execute_input": "2024-11-07T11:32:20.316050Z",
     "iopub.status.busy": "2024-11-07T11:32:20.315843Z",
     "iopub.status.idle": "2024-11-07T11:32:20.319026Z",
     "shell.execute_reply": "2024-11-07T11:32:20.318376Z",
     "shell.execute_reply.started": "2024-11-07T11:32:20.316029Z"
    }
   },
   "outputs": [],
   "source": [
    "weights = {\n",
    "    'rank_tool_consumption': 0.5,   # Weight for the ranking column 'tool_consumption'\n",
    "    'rank_emp_sum': 0.25,\n",
    "    'rank_est_sum': 0.15, # Weight for the ranking column 'emp_sum'\n",
    "    'rank_unique_FIPS': 0.1         # Weight for the ranking column 'unique_FIPS'\n",
    "}"
   ]
  },
  {
   "cell_type": "code",
   "execution_count": 77,
   "id": "ce32e9f3-cf50-44b8-b898-bed34200fcf7",
   "metadata": {
    "ExecuteTime": {
     "end_time": "2024-11-23T11:44:27.852002Z",
     "start_time": "2024-11-23T11:44:27.844826Z"
    },
    "execution": {
     "iopub.execute_input": "2024-11-07T11:32:20.518680Z",
     "iopub.status.busy": "2024-11-07T11:32:20.518471Z",
     "iopub.status.idle": "2024-11-07T11:32:20.524111Z",
     "shell.execute_reply": "2024-11-07T11:32:20.523569Z",
     "shell.execute_reply.started": "2024-11-07T11:32:20.518658Z"
    }
   },
   "outputs": [],
   "source": [
    "# calculate the weighted sum\n",
    "result_copy['Weighted_Sum'] = (result_copy['rank_tool_consumption'] * weights['rank_tool_consumption'] +\n",
    "                          result_copy['rank_emp_sum'] * weights['rank_emp_sum'] +\n",
    "                          result_copy['rank_unique_FIPS'] * weights['rank_unique_FIPS'])\n",
    "result_sorted = result_copy.sort_values(by='Weighted_Sum', ascending=True)"
   ]
  },
  {
   "cell_type": "code",
   "execution_count": 78,
   "id": "cfec1a18-a573-4036-b729-2c59b33665f7",
   "metadata": {
    "ExecuteTime": {
     "end_time": "2024-11-23T11:44:28.440754Z",
     "start_time": "2024-11-23T11:44:28.425959Z"
    },
    "execution": {
     "iopub.execute_input": "2024-11-07T11:32:20.969733Z",
     "iopub.status.busy": "2024-11-07T11:32:20.969323Z",
     "iopub.status.idle": "2024-11-07T11:32:20.982668Z",
     "shell.execute_reply": "2024-11-07T11:32:20.982089Z",
     "shell.execute_reply.started": "2024-11-07T11:32:20.969710Z"
    }
   },
   "outputs": [
    {
     "data": {
      "text/html": [
       "<div>\n",
       "<style scoped>\n",
       "    .dataframe tbody tr th:only-of-type {\n",
       "        vertical-align: middle;\n",
       "    }\n",
       "\n",
       "    .dataframe tbody tr th {\n",
       "        vertical-align: top;\n",
       "    }\n",
       "\n",
       "    .dataframe thead th {\n",
       "        text-align: right;\n",
       "    }\n",
       "</style>\n",
       "<table border=\"1\" class=\"dataframe\">\n",
       "  <thead>\n",
       "    <tr style=\"text-align: right;\">\n",
       "      <th></th>\n",
       "      <th>naics</th>\n",
       "      <th>DESCRIPTION</th>\n",
       "      <th>tool_consumption</th>\n",
       "      <th>emp_sum</th>\n",
       "      <th>est_sum</th>\n",
       "      <th>unique_FIPS</th>\n",
       "      <th>rank_tool_consumption</th>\n",
       "      <th>rank_emp_sum</th>\n",
       "      <th>rank_est_sum</th>\n",
       "      <th>rank_unique_FIPS</th>\n",
       "      <th>Weighted_Sum</th>\n",
       "    </tr>\n",
       "  </thead>\n",
       "  <tbody>\n",
       "    <tr>\n",
       "      <th>1</th>\n",
       "      <td>3320A2</td>\n",
       "      <td>3323, 3323</td>\n",
       "      <td>3.00</td>\n",
       "      <td>343891</td>\n",
       "      <td>12558</td>\n",
       "      <td>1057</td>\n",
       "      <td>1</td>\n",
       "      <td>2</td>\n",
       "      <td>1</td>\n",
       "      <td>1</td>\n",
       "      <td>1.10</td>\n",
       "    </tr>\n",
       "    <tr>\n",
       "      <th>0</th>\n",
       "      <td>3330A1</td>\n",
       "      <td>3331, 3332, 3334, 3339</td>\n",
       "      <td>2.33</td>\n",
       "      <td>488895</td>\n",
       "      <td>9525</td>\n",
       "      <td>699</td>\n",
       "      <td>3</td>\n",
       "      <td>1</td>\n",
       "      <td>3</td>\n",
       "      <td>3</td>\n",
       "      <td>2.05</td>\n",
       "    </tr>\n",
       "    <tr>\n",
       "      <th>2</th>\n",
       "      <td>3320A1</td>\n",
       "      <td>3321, 3322, 3325, 3326, 3329</td>\n",
       "      <td>2.67</td>\n",
       "      <td>315026</td>\n",
       "      <td>7798</td>\n",
       "      <td>592</td>\n",
       "      <td>2</td>\n",
       "      <td>3</td>\n",
       "      <td>4</td>\n",
       "      <td>4</td>\n",
       "      <td>2.15</td>\n",
       "    </tr>\n",
       "    <tr>\n",
       "      <th>3</th>\n",
       "      <td>3370A1</td>\n",
       "      <td>3371, 3372</td>\n",
       "      <td>1.67</td>\n",
       "      <td>257375</td>\n",
       "      <td>11709</td>\n",
       "      <td>861</td>\n",
       "      <td>4</td>\n",
       "      <td>4</td>\n",
       "      <td>2</td>\n",
       "      <td>2</td>\n",
       "      <td>3.20</td>\n",
       "    </tr>\n",
       "  </tbody>\n",
       "</table>\n",
       "</div>"
      ],
      "text/plain": [
       "    naics                   DESCRIPTION  tool_consumption  emp_sum  est_sum  \\\n",
       "1  3320A2                    3323, 3323              3.00   343891    12558   \n",
       "0  3330A1        3331, 3332, 3334, 3339              2.33   488895     9525   \n",
       "2  3320A1  3321, 3322, 3325, 3326, 3329              2.67   315026     7798   \n",
       "3  3370A1                    3371, 3372              1.67   257375    11709   \n",
       "\n",
       "   unique_FIPS  rank_tool_consumption  rank_emp_sum  rank_est_sum  \\\n",
       "1         1057                      1             2             1   \n",
       "0          699                      3             1             3   \n",
       "2          592                      2             3             4   \n",
       "3          861                      4             4             2   \n",
       "\n",
       "   rank_unique_FIPS  Weighted_Sum  \n",
       "1                 1          1.10  \n",
       "0                 3          2.05  \n",
       "2                 4          2.15  \n",
       "3                 2          3.20  "
      ]
     },
     "execution_count": 78,
     "metadata": {},
     "output_type": "execute_result"
    }
   ],
   "source": [
    "result_sorted.head(10)"
   ]
  },
  {
   "cell_type": "code",
   "execution_count": 79,
   "id": "3bd2d3a9a8e756ef",
   "metadata": {
    "ExecuteTime": {
     "end_time": "2024-11-23T11:44:29.202515Z",
     "start_time": "2024-11-23T11:44:29.186374Z"
    }
   },
   "outputs": [],
   "source": [
    "# Set how many industries are selected\n",
    "n_top_industries = 5\n",
    "n_rest_industries = 10"
   ]
  },
  {
   "cell_type": "code",
   "execution_count": 80,
   "id": "4ad2cbc2-80a4-452b-9fad-d26ef69c7a96",
   "metadata": {
    "ExecuteTime": {
     "end_time": "2024-11-23T11:44:29.973438Z",
     "start_time": "2024-11-23T11:44:29.961748Z"
    },
    "execution": {
     "iopub.execute_input": "2024-11-07T12:55:01.026942Z",
     "iopub.status.busy": "2024-11-07T12:55:01.026661Z",
     "iopub.status.idle": "2024-11-07T12:55:01.031754Z",
     "shell.execute_reply": "2024-11-07T12:55:01.031026Z",
     "shell.execute_reply.started": "2024-11-07T12:55:01.026917Z"
    }
   },
   "outputs": [
    {
     "data": {
      "text/plain": [
       "['3320A2', '3330A1', '3320A1', '3370A1']"
      ]
     },
     "metadata": {},
     "output_type": "display_data"
    },
    {
     "data": {
      "text/plain": [
       "[]"
      ]
     },
     "metadata": {},
     "output_type": "display_data"
    }
   ],
   "source": [
    "# Set NAICS codes of desired industries\n",
    "top_industries = result_sorted[:n_top_industries]['naics'].tolist()\n",
    "rest_industries = result_sorted[n_top_industries+1:n_top_industries+n_rest_industries]['naics'].tolist()\n",
    "display(top_industries)\n",
    "display(rest_industries)"
   ]
  },
  {
   "cell_type": "markdown",
   "id": "b97d0720-12b5-4dd6-91d7-a064e3314dd4",
   "metadata": {
    "execution": {
     "iopub.execute_input": "2024-11-06T12:51:36.202598Z",
     "iopub.status.busy": "2024-11-06T12:51:36.202271Z",
     "iopub.status.idle": "2024-11-06T12:51:36.205915Z",
     "shell.execute_reply": "2024-11-06T12:51:36.205099Z",
     "shell.execute_reply.started": "2024-11-06T12:51:36.202574Z"
    }
   },
   "source": [
    "# feature_df"
   ]
  },
  {
   "cell_type": "code",
   "execution_count": 81,
   "id": "9b2560cc-5c5e-467e-9546-62cf4ad6bc95",
   "metadata": {
    "ExecuteTime": {
     "end_time": "2024-11-23T11:44:31.896908Z",
     "start_time": "2024-11-23T11:44:31.883260Z"
    },
    "execution": {
     "iopub.execute_input": "2024-11-07T12:55:05.947206Z",
     "iopub.status.busy": "2024-11-07T12:55:05.946999Z",
     "iopub.status.idle": "2024-11-07T12:55:05.951363Z",
     "shell.execute_reply": "2024-11-07T12:55:05.950688Z",
     "shell.execute_reply.started": "2024-11-07T12:55:05.947185Z"
    }
   },
   "outputs": [
    {
     "data": {
      "text/plain": [
       "Index(['index', 'State_GEOID', 'County_GEOID', 'FIPS', 'naics_2', 'naics',\n",
       "       'DESCRIPTION', 'emp_nf', 'emp', 'qp1_nf', 'qp1', 'ap_nf', 'ap', 'est',\n",
       "       'n<5', 'n5_9', 'n10_19', 'n20_49', 'n50_99', 'n100_249', 'n250_499',\n",
       "       'n500_999', 'n1000', 'n1000_1', 'n1000_2', 'n1000_3', 'n1000_4',\n",
       "       'tool_consumption'],\n",
       "      dtype='object')"
      ]
     },
     "execution_count": 81,
     "metadata": {},
     "output_type": "execute_result"
    }
   ],
   "source": [
    "df_pattern.columns"
   ]
  },
  {
   "cell_type": "code",
   "execution_count": 82,
   "id": "e5cc04a60058d34e",
   "metadata": {},
   "outputs": [],
   "source": [
    "# Set column for features\n",
    "feature_column = 'emp'\n",
    "feature_column_name = 'Employees'"
   ]
  },
  {
   "cell_type": "code",
   "execution_count": 83,
   "id": "fcc987bf-d195-4e62-ac47-3660b060471f",
   "metadata": {
    "ExecuteTime": {
     "end_time": "2024-11-23T11:44:32.732603Z",
     "start_time": "2024-11-23T11:44:32.681723Z"
    },
    "execution": {
     "iopub.execute_input": "2024-11-07T11:32:22.618485Z",
     "iopub.status.busy": "2024-11-07T11:32:22.617241Z",
     "iopub.status.idle": "2024-11-07T11:32:22.673533Z",
     "shell.execute_reply": "2024-11-07T11:32:22.672829Z",
     "shell.execute_reply.started": "2024-11-07T11:32:22.618461Z"
    }
   },
   "outputs": [
    {
     "data": {
      "text/html": [
       "<div>\n",
       "<style scoped>\n",
       "    .dataframe tbody tr th:only-of-type {\n",
       "        vertical-align: middle;\n",
       "    }\n",
       "\n",
       "    .dataframe tbody tr th {\n",
       "        vertical-align: top;\n",
       "    }\n",
       "\n",
       "    .dataframe thead th {\n",
       "        text-align: right;\n",
       "    }\n",
       "</style>\n",
       "<table border=\"1\" class=\"dataframe\">\n",
       "  <thead>\n",
       "    <tr style=\"text-align: right;\">\n",
       "      <th></th>\n",
       "      <th>FIPS</th>\n",
       "      <th>emp_3320A2</th>\n",
       "      <th>emp_3330A1</th>\n",
       "      <th>emp_3320A1</th>\n",
       "      <th>emp_3370A1</th>\n",
       "      <th>emp_rest</th>\n",
       "    </tr>\n",
       "  </thead>\n",
       "  <tbody>\n",
       "    <tr>\n",
       "      <th>0</th>\n",
       "      <td>01003</td>\n",
       "      <td>122.0</td>\n",
       "      <td>247.0</td>\n",
       "      <td>72.0</td>\n",
       "      <td>194.0</td>\n",
       "      <td>NaN</td>\n",
       "    </tr>\n",
       "    <tr>\n",
       "      <th>1</th>\n",
       "      <td>01009</td>\n",
       "      <td>95.0</td>\n",
       "      <td>NaN</td>\n",
       "      <td>NaN</td>\n",
       "      <td>16.0</td>\n",
       "      <td>NaN</td>\n",
       "    </tr>\n",
       "    <tr>\n",
       "      <th>2</th>\n",
       "      <td>01015</td>\n",
       "      <td>326.0</td>\n",
       "      <td>NaN</td>\n",
       "      <td>752.0</td>\n",
       "      <td>33.0</td>\n",
       "      <td>NaN</td>\n",
       "    </tr>\n",
       "    <tr>\n",
       "      <th>3</th>\n",
       "      <td>01021</td>\n",
       "      <td>75.0</td>\n",
       "      <td>NaN</td>\n",
       "      <td>NaN</td>\n",
       "      <td>6.0</td>\n",
       "      <td>NaN</td>\n",
       "    </tr>\n",
       "    <tr>\n",
       "      <th>4</th>\n",
       "      <td>01027</td>\n",
       "      <td>NaN</td>\n",
       "      <td>NaN</td>\n",
       "      <td>NaN</td>\n",
       "      <td>1780.0</td>\n",
       "      <td>NaN</td>\n",
       "    </tr>\n",
       "    <tr>\n",
       "      <th>...</th>\n",
       "      <td>...</td>\n",
       "      <td>...</td>\n",
       "      <td>...</td>\n",
       "      <td>...</td>\n",
       "      <td>...</td>\n",
       "      <td>...</td>\n",
       "    </tr>\n",
       "    <tr>\n",
       "      <th>1385</th>\n",
       "      <td>56021</td>\n",
       "      <td>86.0</td>\n",
       "      <td>NaN</td>\n",
       "      <td>198.0</td>\n",
       "      <td>NaN</td>\n",
       "      <td>NaN</td>\n",
       "    </tr>\n",
       "    <tr>\n",
       "      <th>1386</th>\n",
       "      <td>56025</td>\n",
       "      <td>51.0</td>\n",
       "      <td>484.0</td>\n",
       "      <td>42.0</td>\n",
       "      <td>22.0</td>\n",
       "      <td>NaN</td>\n",
       "    </tr>\n",
       "    <tr>\n",
       "      <th>1387</th>\n",
       "      <td>56029</td>\n",
       "      <td>NaN</td>\n",
       "      <td>NaN</td>\n",
       "      <td>14.0</td>\n",
       "      <td>NaN</td>\n",
       "      <td>NaN</td>\n",
       "    </tr>\n",
       "    <tr>\n",
       "      <th>1388</th>\n",
       "      <td>56033</td>\n",
       "      <td>32.0</td>\n",
       "      <td>NaN</td>\n",
       "      <td>NaN</td>\n",
       "      <td>NaN</td>\n",
       "      <td>NaN</td>\n",
       "    </tr>\n",
       "    <tr>\n",
       "      <th>1389</th>\n",
       "      <td>56039</td>\n",
       "      <td>10.0</td>\n",
       "      <td>NaN</td>\n",
       "      <td>NaN</td>\n",
       "      <td>4.0</td>\n",
       "      <td>NaN</td>\n",
       "    </tr>\n",
       "  </tbody>\n",
       "</table>\n",
       "<p>4873 rows × 6 columns</p>\n",
       "</div>"
      ],
      "text/plain": [
       "       FIPS  emp_3320A2  emp_3330A1  emp_3320A1  emp_3370A1  emp_rest\n",
       "0     01003       122.0       247.0        72.0       194.0       NaN\n",
       "1     01009        95.0         NaN         NaN        16.0       NaN\n",
       "2     01015       326.0         NaN       752.0        33.0       NaN\n",
       "3     01021        75.0         NaN         NaN         6.0       NaN\n",
       "4     01027         NaN         NaN         NaN      1780.0       NaN\n",
       "...     ...         ...         ...         ...         ...       ...\n",
       "1385  56021        86.0         NaN       198.0         NaN       NaN\n",
       "1386  56025        51.0       484.0        42.0        22.0       NaN\n",
       "1387  56029         NaN         NaN        14.0         NaN       NaN\n",
       "1388  56033        32.0         NaN         NaN         NaN       NaN\n",
       "1389  56039        10.0         NaN         NaN         4.0       NaN\n",
       "\n",
       "[4873 rows x 6 columns]"
      ]
     },
     "execution_count": 83,
     "metadata": {},
     "output_type": "execute_result"
    }
   ],
   "source": [
    "# Assume `df` is the original DataFrame\n",
    "\n",
    "# Create a new DataFrame with unique FIPS values\n",
    "feature_df_pattern = pd.DataFrame(df_pattern['FIPS'].unique(), columns=['FIPS'])\n",
    "\n",
    "# Add a new column with the corresponding 'emp' values for the top 5 industries\n",
    "for naics_code in top_industries:\n",
    "    # Filter the rows for the current NAICS code and get the corresponding 'emp' values\n",
    "    feature_column_values = df_pattern[df_pattern['naics'] == naics_code].set_index('FIPS')[feature_column]\n",
    "    \n",
    "    # Merge the 'est' values as a new column in the new DataFrame\n",
    "    feature_df_pattern = feature_df_pattern.merge(feature_column_values, how='left', left_on='FIPS', right_index=True)\n",
    "    \n",
    "    # Rename the column based on the NAICS code\n",
    "    feature_df_pattern = feature_df_pattern.rename(columns={feature_column: f'{feature_column}_{naics_code}'})\n",
    "\n",
    "# Add new column with the corresponding aggregated 'emp' value for the top 6 to top 15 industries aggregated\n",
    "rest_sums = df_pattern.loc[df_pattern['naics'].isin(rest_industries)].groupby('FIPS')[feature_column].sum() / n_rest_industries\n",
    "feature_df_pattern = feature_df_pattern.merge(rest_sums, how='left', left_on='FIPS', right_index=True)\n",
    "feature_df_pattern = feature_df_pattern.rename(columns={feature_column: f'{feature_column}_rest'})\n",
    "\n",
    "# Set zero values to NaN\n",
    "feature_df_pattern = feature_df_pattern.replace(0, np.nan)\n",
    "\n",
    "# Display the result\n",
    "feature_df_pattern"
   ]
  },
  {
   "cell_type": "code",
   "execution_count": 84,
   "id": "c53c6f14-67b8-4486-ab18-2698d0cfa6fd",
   "metadata": {
    "ExecuteTime": {
     "end_time": "2024-11-23T11:44:34.898475Z",
     "start_time": "2024-11-23T11:44:34.884546Z"
    },
    "execution": {
     "iopub.execute_input": "2024-11-07T11:32:23.018846Z",
     "iopub.status.busy": "2024-11-07T11:32:23.017627Z",
     "iopub.status.idle": "2024-11-07T11:32:23.028594Z",
     "shell.execute_reply": "2024-11-07T11:32:23.027877Z",
     "shell.execute_reply.started": "2024-11-07T11:32:23.018820Z"
    }
   },
   "outputs": [
    {
     "name": "stdout",
     "output_type": "stream",
     "text": [
      "<class 'pandas.core.frame.DataFrame'>\n",
      "Index: 4873 entries, 0 to 1389\n",
      "Data columns (total 6 columns):\n",
      " #   Column      Non-Null Count  Dtype  \n",
      "---  ------      --------------  -----  \n",
      " 0   FIPS        4873 non-null   object \n",
      " 1   emp_3320A2  4521 non-null   float64\n",
      " 2   emp_3330A1  4116 non-null   float64\n",
      " 3   emp_3320A1  3972 non-null   float64\n",
      " 4   emp_3370A1  4282 non-null   float64\n",
      " 5   emp_rest    0 non-null      float64\n",
      "dtypes: float64(5), object(1)\n",
      "memory usage: 266.5+ KB\n"
     ]
    }
   ],
   "source": [
    "feature_df_pattern.info()"
   ]
  },
  {
   "cell_type": "markdown",
   "id": "48ed385f-cfdf-4bf3-b15e-ee28d6c5aa1e",
   "metadata": {},
   "source": [
    "# Scaling "
   ]
  },
  {
   "cell_type": "code",
   "execution_count": 85,
   "id": "54c2ba26-0941-41be-8cea-ac178e88bd6d",
   "metadata": {
    "ExecuteTime": {
     "end_time": "2024-11-23T11:44:46.136713Z",
     "start_time": "2024-11-23T11:44:45.892748Z"
    },
    "execution": {
     "iopub.execute_input": "2024-11-07T12:56:40.056301Z",
     "iopub.status.busy": "2024-11-07T12:56:40.056042Z",
     "iopub.status.idle": "2024-11-07T12:56:40.401268Z",
     "shell.execute_reply": "2024-11-07T12:56:40.400735Z",
     "shell.execute_reply.started": "2024-11-07T12:56:40.056277Z"
    }
   },
   "outputs": [
    {
     "data": {
      "image/png": "[encoded data removed]",
      "text/plain": [
       "<Figure size 800x400 with 1 Axes>"
      ]
     },
     "metadata": {},
     "output_type": "display_data"
    }
   ],
   "source": [
    "# Drop 'FIPS' column\n",
    "feature_df_pattern_no_fips = feature_df_pattern.drop(columns='FIPS')\n",
    "\n",
    "plt.figure(figsize=(8,4))\n",
    "\n",
    "# Plot points without NaN values for each column except 'FIPS'\n",
    "for col in feature_df_pattern_no_fips.columns:\n",
    "    # Remove NaN values\n",
    "    non_nan_data = feature_df_pattern_no_fips[col].dropna()\n",
    "    plt.scatter([col] * len(non_nan_data), non_nan_data, s=50, alpha=0.6, label=col)  # Set s to a fixed value\n",
    "\n",
    "plt.xlabel(\"Features\")\n",
    "plt.ylabel(feature_column_name)\n",
    "plt.title(\"Scatterplot of Features\")\n",
    "plt.legend(title=\"Feature Legend\")\n",
    "plt.show()\n"
   ]
  },
  {
   "cell_type": "code",
   "execution_count": 86,
   "id": "186ad8e0-ec55-4785-bb6a-0202efcac382",
   "metadata": {
    "ExecuteTime": {
     "end_time": "2024-11-23T11:44:52.317425Z",
     "start_time": "2024-11-23T11:44:51.725888Z"
    },
    "execution": {
     "iopub.execute_input": "2024-11-07T12:57:01.618215Z",
     "iopub.status.busy": "2024-11-07T12:57:01.617997Z",
     "iopub.status.idle": "2024-11-07T12:57:02.735455Z",
     "shell.execute_reply": "2024-11-07T12:57:02.734813Z",
     "shell.execute_reply.started": "2024-11-07T12:57:01.618193Z"
    }
   },
   "outputs": [
    {
     "data": {
      "image/png": "[encoded data removed]",
      "text/plain": [
       "<Figure size 700x2000 with 5 Axes>"
      ]
     },
     "metadata": {},
     "output_type": "display_data"
    }
   ],
   "source": [
    "# Drop the 'FIPS' column\n",
    "feature_df_pattern_no_fips = feature_df_pattern.drop(columns='FIPS')\n",
    "\n",
    "# Number of columns (features)\n",
    "n_features = len(feature_df_pattern_no_fips.columns)\n",
    "\n",
    "# Set up subplots (one row and as many columns as there are features)\n",
    "fig, axes = plt.subplots(n_features, 1, figsize=(7, 4 * n_features))\n",
    "\n",
    "# Create a histogram for each feature\n",
    "for i, col in enumerate(feature_df_pattern_no_fips.columns):\n",
    "    axes[i].hist(feature_df_pattern_no_fips[col].dropna(), bins=20, alpha=0.7, color='skyblue')\n",
    "    axes[i].set_xlabel(col)\n",
    "    axes[i].set_ylabel('Frequency')\n",
    "    axes[i].set_title(f'Histogram of {col}')\n",
    "    axes[i].grid(True)\n",
    "\n",
    "plt.tight_layout()\n",
    "plt.show()"
   ]
  },
  {
   "cell_type": "code",
   "execution_count": 87,
   "id": "3d33e6ec-d7f0-4c1b-9b1d-b816ad728913",
   "metadata": {
    "ExecuteTime": {
     "end_time": "2024-11-23T11:44:57.884845Z",
     "start_time": "2024-11-23T11:44:56.673218Z"
    },
    "execution": {
     "iopub.execute_input": "2024-11-07T11:32:25.464279Z",
     "iopub.status.busy": "2024-11-07T11:32:25.463073Z",
     "iopub.status.idle": "2024-11-07T11:32:27.409628Z",
     "shell.execute_reply": "2024-11-07T11:32:27.408963Z",
     "shell.execute_reply.started": "2024-11-07T11:32:25.464254Z"
    }
   },
   "outputs": [
    {
     "name": "stderr",
     "output_type": "stream",
     "text": [
      "c:\\Users\\lenna\\AppData\\Local\\Programs\\Python\\Python311\\Lib\\site-packages\\sklearn\\utils\\_array_api.py:695: RuntimeWarning: All-NaN slice encountered\n",
      "  return xp.asarray(numpy.nanmin(X, axis=axis))\n",
      "c:\\Users\\lenna\\AppData\\Local\\Programs\\Python\\Python311\\Lib\\site-packages\\sklearn\\utils\\_array_api.py:712: RuntimeWarning: All-NaN slice encountered\n",
      "  return xp.asarray(numpy.nanmax(X, axis=axis))\n",
      "c:\\Users\\lenna\\AppData\\Local\\Programs\\Python\\Python311\\Lib\\site-packages\\sklearn\\utils\\extmath.py:1137: RuntimeWarning: invalid value encountered in divide\n",
      "  updated_mean = (last_sum + new_sum) / updated_sample_count\n",
      "c:\\Users\\lenna\\AppData\\Local\\Programs\\Python\\Python311\\Lib\\site-packages\\sklearn\\utils\\extmath.py:1142: RuntimeWarning: invalid value encountered in divide\n",
      "  T = new_sum / new_sample_count\n",
      "c:\\Users\\lenna\\AppData\\Local\\Programs\\Python\\Python311\\Lib\\site-packages\\sklearn\\utils\\extmath.py:1162: RuntimeWarning: invalid value encountered in divide\n",
      "  new_unnormalized_variance -= correction**2 / new_sample_count\n"
     ]
    },
    {
     "data": {
      "image/png": "[encoded data removed]",
      "text/plain": [
       "<Figure size 1600x1200 with 6 Axes>"
      ]
     },
     "metadata": {},
     "output_type": "display_data"
    }
   ],
   "source": [
    "# Drop the 'FIPS' column\n",
    "feature_df_pattern_no_fips = feature_df_pattern.drop(columns='FIPS')\n",
    "\n",
    "# Linear Standardization (Min-Max Scaling)\n",
    "scaler_minmax = MinMaxScaler()\n",
    "feature_df_pattern_minmax = scaler_minmax.fit_transform(feature_df_pattern_no_fips)\n",
    "\n",
    "# Z-transformation (Standardization)\n",
    "scaler_standard = StandardScaler()\n",
    "feature_df_pattern_zscore = scaler_standard.fit_transform(feature_df_pattern_no_fips)\n",
    "\n",
    "# Log10 Scaling (with a small constant to avoid log(0))\n",
    "feature_df_pattern_log10 = np.log10(feature_df_pattern_no_fips + 1e-9)\n",
    "\n",
    "# Plotting function with automatic y-limits adjustment\n",
    "def plot_features(data, title, ax):\n",
    "    for i, col in enumerate(feature_df_pattern_no_fips.columns):\n",
    "        non_nan_data = data[:, i][~np.isnan(data[:, i])]  # Get non-NaN data for each feature\n",
    "        ax.scatter([col] * len(non_nan_data), non_nan_data, s=20, alpha=0.6, label=col)\n",
    "    ax.set_xlabel(\"Features\")\n",
    "    ax.set_ylabel(\"Values\")\n",
    "    ax.set_title(title)\n",
    "       \n",
    "\n",
    "# Create a 3x2 grid of subplots\n",
    "fig, axes = plt.subplots(3, 2, figsize=(16, 12), sharey=False)\n",
    "\n",
    "# List of data pairs and titles for each subplot\n",
    "data_pairs = [\n",
    "    (feature_df_pattern_no_fips.to_numpy(), \"Original Data\", feature_df_pattern_minmax, \"Linear Standardization (Min-Max Scaling)\"),\n",
    "    (feature_df_pattern_no_fips.to_numpy(), \"Original Data\", feature_df_pattern_zscore, \"Z-Transformation (Standardization)\"),\n",
    "    (feature_df_pattern_no_fips.to_numpy(), \"Original Data\", feature_df_pattern_log10.to_numpy(), \"Log10 Scaling\")\n",
    "]\n",
    "\n",
    "# Plot each pair of datasets in the grid\n",
    "for row, (original_data, original_title, transformed_data, transformed_title) in enumerate(data_pairs):\n",
    "    # Plot original data in the left column\n",
    "    plot_features(original_data, original_title, axes[row, 0])\n",
    "    # Plot transformed data in the right column\n",
    "    plot_features(transformed_data, transformed_title, axes[row, 1])\n",
    "\n",
    "# Adjust layout and show legend for each subplot\n",
    "for ax in axes.flat:\n",
    "    if ax.has_data():\n",
    "        ax.legend(title=\"Feature Legend\", loc='upper right')\n",
    "plt.tight_layout()\n",
    "plt.show()\n"
   ]
  },
  {
   "cell_type": "code",
   "execution_count": 88,
   "id": "2b43b85bda1e2974",
   "metadata": {
    "ExecuteTime": {
     "end_time": "2024-11-23T11:44:57.922940Z",
     "start_time": "2024-11-23T11:44:57.915073Z"
    }
   },
   "outputs": [
    {
     "data": {
      "text/html": [
       "<div>\n",
       "<style scoped>\n",
       "    .dataframe tbody tr th:only-of-type {\n",
       "        vertical-align: middle;\n",
       "    }\n",
       "\n",
       "    .dataframe tbody tr th {\n",
       "        vertical-align: top;\n",
       "    }\n",
       "\n",
       "    .dataframe thead th {\n",
       "        text-align: right;\n",
       "    }\n",
       "</style>\n",
       "<table border=\"1\" class=\"dataframe\">\n",
       "  <thead>\n",
       "    <tr style=\"text-align: right;\">\n",
       "      <th></th>\n",
       "      <th>emp_3320A2</th>\n",
       "      <th>emp_3330A1</th>\n",
       "      <th>emp_3320A1</th>\n",
       "      <th>emp_3370A1</th>\n",
       "      <th>emp_rest</th>\n",
       "    </tr>\n",
       "  </thead>\n",
       "  <tbody>\n",
       "    <tr>\n",
       "      <th>0</th>\n",
       "      <td>2.086360</td>\n",
       "      <td>2.392697</td>\n",
       "      <td>1.857332</td>\n",
       "      <td>2.287802</td>\n",
       "      <td>NaN</td>\n",
       "    </tr>\n",
       "    <tr>\n",
       "      <th>1</th>\n",
       "      <td>1.977724</td>\n",
       "      <td>NaN</td>\n",
       "      <td>NaN</td>\n",
       "      <td>1.204120</td>\n",
       "      <td>NaN</td>\n",
       "    </tr>\n",
       "    <tr>\n",
       "      <th>2</th>\n",
       "      <td>2.513218</td>\n",
       "      <td>NaN</td>\n",
       "      <td>2.876218</td>\n",
       "      <td>1.518514</td>\n",
       "      <td>NaN</td>\n",
       "    </tr>\n",
       "    <tr>\n",
       "      <th>3</th>\n",
       "      <td>1.875061</td>\n",
       "      <td>NaN</td>\n",
       "      <td>NaN</td>\n",
       "      <td>0.778151</td>\n",
       "      <td>NaN</td>\n",
       "    </tr>\n",
       "    <tr>\n",
       "      <th>4</th>\n",
       "      <td>NaN</td>\n",
       "      <td>NaN</td>\n",
       "      <td>NaN</td>\n",
       "      <td>3.250420</td>\n",
       "      <td>NaN</td>\n",
       "    </tr>\n",
       "    <tr>\n",
       "      <th>...</th>\n",
       "      <td>...</td>\n",
       "      <td>...</td>\n",
       "      <td>...</td>\n",
       "      <td>...</td>\n",
       "      <td>...</td>\n",
       "    </tr>\n",
       "    <tr>\n",
       "      <th>1385</th>\n",
       "      <td>1.934498</td>\n",
       "      <td>NaN</td>\n",
       "      <td>2.296665</td>\n",
       "      <td>NaN</td>\n",
       "      <td>NaN</td>\n",
       "    </tr>\n",
       "    <tr>\n",
       "      <th>1386</th>\n",
       "      <td>1.707570</td>\n",
       "      <td>2.684845</td>\n",
       "      <td>1.623249</td>\n",
       "      <td>1.342423</td>\n",
       "      <td>NaN</td>\n",
       "    </tr>\n",
       "    <tr>\n",
       "      <th>1387</th>\n",
       "      <td>NaN</td>\n",
       "      <td>NaN</td>\n",
       "      <td>1.146128</td>\n",
       "      <td>NaN</td>\n",
       "      <td>NaN</td>\n",
       "    </tr>\n",
       "    <tr>\n",
       "      <th>1388</th>\n",
       "      <td>1.505150</td>\n",
       "      <td>NaN</td>\n",
       "      <td>NaN</td>\n",
       "      <td>NaN</td>\n",
       "      <td>NaN</td>\n",
       "    </tr>\n",
       "    <tr>\n",
       "      <th>1389</th>\n",
       "      <td>1.000000</td>\n",
       "      <td>NaN</td>\n",
       "      <td>NaN</td>\n",
       "      <td>0.602060</td>\n",
       "      <td>NaN</td>\n",
       "    </tr>\n",
       "  </tbody>\n",
       "</table>\n",
       "<p>4873 rows × 5 columns</p>\n",
       "</div>"
      ],
      "text/plain": [
       "      emp_3320A2  emp_3330A1  emp_3320A1  emp_3370A1  emp_rest\n",
       "0       2.086360    2.392697    1.857332    2.287802       NaN\n",
       "1       1.977724         NaN         NaN    1.204120       NaN\n",
       "2       2.513218         NaN    2.876218    1.518514       NaN\n",
       "3       1.875061         NaN         NaN    0.778151       NaN\n",
       "4            NaN         NaN         NaN    3.250420       NaN\n",
       "...          ...         ...         ...         ...       ...\n",
       "1385    1.934498         NaN    2.296665         NaN       NaN\n",
       "1386    1.707570    2.684845    1.623249    1.342423       NaN\n",
       "1387         NaN         NaN    1.146128         NaN       NaN\n",
       "1388    1.505150         NaN         NaN         NaN       NaN\n",
       "1389    1.000000         NaN         NaN    0.602060       NaN\n",
       "\n",
       "[4873 rows x 5 columns]"
      ]
     },
     "execution_count": 88,
     "metadata": {},
     "output_type": "execute_result"
    }
   ],
   "source": [
    "feature_df_pattern_log10"
   ]
  },
  {
   "cell_type": "code",
   "execution_count": 89,
   "id": "7084920e-32df-4000-bba8-db2e4e4be132",
   "metadata": {
    "ExecuteTime": {
     "end_time": "2024-11-23T11:45:06.675999Z",
     "start_time": "2024-11-23T11:45:06.105698Z"
    },
    "execution": {
     "iopub.execute_input": "2024-11-07T11:32:27.413140Z",
     "iopub.status.busy": "2024-11-07T11:32:27.411950Z",
     "iopub.status.idle": "2024-11-07T11:32:28.592231Z",
     "shell.execute_reply": "2024-11-07T11:32:28.591656Z",
     "shell.execute_reply.started": "2024-11-07T11:32:27.413115Z"
    }
   },
   "outputs": [
    {
     "name": "stderr",
     "output_type": "stream",
     "text": [
      "c:\\Users\\lenna\\AppData\\Local\\Programs\\Python\\Python311\\Lib\\site-packages\\matplotlib\\axes\\_axes.py:6973: RuntimeWarning: All-NaN slice encountered\n",
      "  xmin = min(xmin, np.nanmin(xi))\n",
      "c:\\Users\\lenna\\AppData\\Local\\Programs\\Python\\Python311\\Lib\\site-packages\\matplotlib\\axes\\_axes.py:6974: RuntimeWarning: All-NaN slice encountered\n",
      "  xmax = max(xmax, np.nanmax(xi))\n"
     ]
    },
    {
     "ename": "ValueError",
     "evalue": "autodetected range of [nan, nan] is not finite",
     "output_type": "error",
     "traceback": [
      "\u001b[1;31m---------------------------------------------------------------------------\u001b[0m",
      "\u001b[1;31mValueError\u001b[0m                                Traceback (most recent call last)",
      "Cell \u001b[1;32mIn[89], line 24\u001b[0m\n\u001b[0;32m     21\u001b[0m     plt\u001b[39m.\u001b[39mshow()\n\u001b[0;32m     23\u001b[0m \u001b[39m# Plot histograms for Log10 scaling\u001b[39;00m\n\u001b[1;32m---> 24\u001b[0m plot_histograms_log10(feature_df_pattern_log10\u001b[39m.\u001b[39;49mto_numpy())\n",
      "Cell \u001b[1;32mIn[89], line 14\u001b[0m, in \u001b[0;36mplot_histograms_log10\u001b[1;34m(data)\u001b[0m\n\u001b[0;32m     12\u001b[0m \u001b[39m# Loop through each feature and plot its histogram\u001b[39;00m\n\u001b[0;32m     13\u001b[0m \u001b[39mfor\u001b[39;00m i, col \u001b[39min\u001b[39;00m \u001b[39menumerate\u001b[39m(feature_df_pattern_no_fips\u001b[39m.\u001b[39mcolumns):\n\u001b[1;32m---> 14\u001b[0m     axes[i]\u001b[39m.\u001b[39;49mhist(data[:, i], bins\u001b[39m=\u001b[39;49m\u001b[39m20\u001b[39;49m, alpha\u001b[39m=\u001b[39;49m\u001b[39m0.7\u001b[39;49m, color\u001b[39m=\u001b[39;49m\u001b[39m'\u001b[39;49m\u001b[39mskyblue\u001b[39;49m\u001b[39m'\u001b[39;49m)\n\u001b[0;32m     15\u001b[0m     axes[i]\u001b[39m.\u001b[39mset_xlabel(col)\n\u001b[0;32m     16\u001b[0m     axes[i]\u001b[39m.\u001b[39mset_ylabel(\u001b[39m'\u001b[39m\u001b[39mFrequency\u001b[39m\u001b[39m'\u001b[39m)\n",
      "File \u001b[1;32mc:\\Users\\lenna\\AppData\\Local\\Programs\\Python\\Python311\\Lib\\site-packages\\matplotlib\\__init__.py:1473\u001b[0m, in \u001b[0;36m_preprocess_data.<locals>.inner\u001b[1;34m(ax, data, *args, **kwargs)\u001b[0m\n\u001b[0;32m   1470\u001b[0m \u001b[39m@functools\u001b[39m\u001b[39m.\u001b[39mwraps(func)\n\u001b[0;32m   1471\u001b[0m \u001b[39mdef\u001b[39;00m \u001b[39minner\u001b[39m(ax, \u001b[39m*\u001b[39margs, data\u001b[39m=\u001b[39m\u001b[39mNone\u001b[39;00m, \u001b[39m*\u001b[39m\u001b[39m*\u001b[39mkwargs):\n\u001b[0;32m   1472\u001b[0m     \u001b[39mif\u001b[39;00m data \u001b[39mis\u001b[39;00m \u001b[39mNone\u001b[39;00m:\n\u001b[1;32m-> 1473\u001b[0m         \u001b[39mreturn\u001b[39;00m func(\n\u001b[0;32m   1474\u001b[0m             ax,\n\u001b[0;32m   1475\u001b[0m             \u001b[39m*\u001b[39;49m\u001b[39mmap\u001b[39;49m(sanitize_sequence, args),\n\u001b[0;32m   1476\u001b[0m             \u001b[39m*\u001b[39;49m\u001b[39m*\u001b[39;49m{k: sanitize_sequence(v) \u001b[39mfor\u001b[39;49;00m k, v \u001b[39min\u001b[39;49;00m kwargs\u001b[39m.\u001b[39;49mitems()})\n\u001b[0;32m   1478\u001b[0m     bound \u001b[39m=\u001b[39m new_sig\u001b[39m.\u001b[39mbind(ax, \u001b[39m*\u001b[39margs, \u001b[39m*\u001b[39m\u001b[39m*\u001b[39mkwargs)\n\u001b[0;32m   1479\u001b[0m     auto_label \u001b[39m=\u001b[39m (bound\u001b[39m.\u001b[39marguments\u001b[39m.\u001b[39mget(label_namer)\n\u001b[0;32m   1480\u001b[0m                   \u001b[39mor\u001b[39;00m bound\u001b[39m.\u001b[39mkwargs\u001b[39m.\u001b[39mget(label_namer))\n",
      "File \u001b[1;32mc:\\Users\\lenna\\AppData\\Local\\Programs\\Python\\Python311\\Lib\\site-packages\\matplotlib\\axes\\_axes.py:7001\u001b[0m, in \u001b[0;36mAxes.hist\u001b[1;34m(self, x, bins, range, density, weights, cumulative, bottom, histtype, align, orientation, rwidth, log, color, label, stacked, **kwargs)\u001b[0m\n\u001b[0;32m   6997\u001b[0m \u001b[39m# Loop through datasets\u001b[39;00m\n\u001b[0;32m   6998\u001b[0m \u001b[39mfor\u001b[39;00m i \u001b[39min\u001b[39;00m \u001b[39mrange\u001b[39m(nx):\n\u001b[0;32m   6999\u001b[0m     \u001b[39m# this will automatically overwrite bins,\u001b[39;00m\n\u001b[0;32m   7000\u001b[0m     \u001b[39m# so that each histogram uses the same bins\u001b[39;00m\n\u001b[1;32m-> 7001\u001b[0m     m, bins \u001b[39m=\u001b[39m np\u001b[39m.\u001b[39;49mhistogram(x[i], bins, weights\u001b[39m=\u001b[39;49mw[i], \u001b[39m*\u001b[39;49m\u001b[39m*\u001b[39;49mhist_kwargs)\n\u001b[0;32m   7002\u001b[0m     tops\u001b[39m.\u001b[39mappend(m)\n\u001b[0;32m   7003\u001b[0m tops \u001b[39m=\u001b[39m np\u001b[39m.\u001b[39marray(tops, \u001b[39mfloat\u001b[39m)  \u001b[39m# causes problems later if it's an int\u001b[39;00m\n",
      "File \u001b[1;32mc:\\Users\\lenna\\AppData\\Local\\Programs\\Python\\Python311\\Lib\\site-packages\\numpy\\lib\\histograms.py:780\u001b[0m, in \u001b[0;36mhistogram\u001b[1;34m(a, bins, range, density, weights)\u001b[0m\n\u001b[0;32m    680\u001b[0m \u001b[39m\u001b[39m\u001b[39mr\u001b[39m\u001b[39m\"\"\"\u001b[39;00m\n\u001b[0;32m    681\u001b[0m \u001b[39mCompute the histogram of a dataset.\u001b[39;00m\n\u001b[0;32m    682\u001b[0m \n\u001b[1;32m   (...)\u001b[0m\n\u001b[0;32m    776\u001b[0m \n\u001b[0;32m    777\u001b[0m \u001b[39m\"\"\"\u001b[39;00m\n\u001b[0;32m    778\u001b[0m a, weights \u001b[39m=\u001b[39m _ravel_and_check_weights(a, weights)\n\u001b[1;32m--> 780\u001b[0m bin_edges, uniform_bins \u001b[39m=\u001b[39m _get_bin_edges(a, bins, \u001b[39mrange\u001b[39;49m, weights)\n\u001b[0;32m    782\u001b[0m \u001b[39m# Histogram is an integer or a float array depending on the weights.\u001b[39;00m\n\u001b[0;32m    783\u001b[0m \u001b[39mif\u001b[39;00m weights \u001b[39mis\u001b[39;00m \u001b[39mNone\u001b[39;00m:\n",
      "File \u001b[1;32mc:\\Users\\lenna\\AppData\\Local\\Programs\\Python\\Python311\\Lib\\site-packages\\numpy\\lib\\histograms.py:426\u001b[0m, in \u001b[0;36m_get_bin_edges\u001b[1;34m(a, bins, range, weights)\u001b[0m\n\u001b[0;32m    423\u001b[0m     \u001b[39mif\u001b[39;00m n_equal_bins \u001b[39m<\u001b[39m \u001b[39m1\u001b[39m:\n\u001b[0;32m    424\u001b[0m         \u001b[39mraise\u001b[39;00m \u001b[39mValueError\u001b[39;00m(\u001b[39m'\u001b[39m\u001b[39m`bins` must be positive, when an integer\u001b[39m\u001b[39m'\u001b[39m)\n\u001b[1;32m--> 426\u001b[0m     first_edge, last_edge \u001b[39m=\u001b[39m _get_outer_edges(a, \u001b[39mrange\u001b[39;49m)\n\u001b[0;32m    428\u001b[0m \u001b[39melif\u001b[39;00m np\u001b[39m.\u001b[39mndim(bins) \u001b[39m==\u001b[39m \u001b[39m1\u001b[39m:\n\u001b[0;32m    429\u001b[0m     bin_edges \u001b[39m=\u001b[39m np\u001b[39m.\u001b[39masarray(bins)\n",
      "File \u001b[1;32mc:\\Users\\lenna\\AppData\\Local\\Programs\\Python\\Python311\\Lib\\site-packages\\numpy\\lib\\histograms.py:323\u001b[0m, in \u001b[0;36m_get_outer_edges\u001b[1;34m(a, range)\u001b[0m\n\u001b[0;32m    321\u001b[0m     first_edge, last_edge \u001b[39m=\u001b[39m a\u001b[39m.\u001b[39mmin(), a\u001b[39m.\u001b[39mmax()\n\u001b[0;32m    322\u001b[0m     \u001b[39mif\u001b[39;00m \u001b[39mnot\u001b[39;00m (np\u001b[39m.\u001b[39misfinite(first_edge) \u001b[39mand\u001b[39;00m np\u001b[39m.\u001b[39misfinite(last_edge)):\n\u001b[1;32m--> 323\u001b[0m         \u001b[39mraise\u001b[39;00m \u001b[39mValueError\u001b[39;00m(\n\u001b[0;32m    324\u001b[0m             \u001b[39m\"\u001b[39m\u001b[39mautodetected range of [\u001b[39m\u001b[39m{}\u001b[39;00m\u001b[39m, \u001b[39m\u001b[39m{}\u001b[39;00m\u001b[39m] is not finite\u001b[39m\u001b[39m\"\u001b[39m\u001b[39m.\u001b[39mformat(first_edge, last_edge))\n\u001b[0;32m    326\u001b[0m \u001b[39m# expand empty range to avoid divide by zero\u001b[39;00m\n\u001b[0;32m    327\u001b[0m \u001b[39mif\u001b[39;00m first_edge \u001b[39m==\u001b[39m last_edge:\n",
      "\u001b[1;31mValueError\u001b[0m: autodetected range of [nan, nan] is not finite"
     ]
    },
    {
     "data": {
      "image/png": "[encoded data removed]",
      "text/plain": [
       "<Figure size 1000x2500 with 5 Axes>"
      ]
     },
     "metadata": {},
     "output_type": "display_data"
    }
   ],
   "source": [
    "# Drop the 'FIPS' column\n",
    "feature_df_pattern_no_fips = feature_df_pattern.drop(columns='FIPS')\n",
    "\n",
    "# Log10 Scaling (with a small constant to avoid log(0))\n",
    "feature_df_pattern_log10 = np.log10(feature_df_pattern_no_fips + 1e-9)\n",
    "\n",
    "# Plotting function for histograms (only for log10 scaling)\n",
    "def plot_histograms_log10(data):\n",
    "    n_features = data.shape[1]\n",
    "    fig, axes = plt.subplots(n_features, 1, figsize=(10, 5 * n_features))\n",
    "\n",
    "    # Loop through each feature and plot its histogram\n",
    "    for i, col in enumerate(feature_df_pattern_no_fips.columns):\n",
    "        axes[i].hist(data[:, i], bins=20, alpha=0.7, color='skyblue')\n",
    "        axes[i].set_xlabel(col)\n",
    "        axes[i].set_ylabel('Frequency')\n",
    "        axes[i].set_title(f'Histogram of {col} (Log10 Scaling)')\n",
    "        axes[i].grid(True)\n",
    "\n",
    "    plt.tight_layout()\n",
    "    plt.show()\n",
    "\n",
    "# Plot histograms for Log10 scaling\n",
    "plot_histograms_log10(feature_df_pattern_log10.to_numpy())\n"
   ]
  },
  {
   "cell_type": "markdown",
   "id": "7c4b5bce-f08e-40f0-b9f2-aeae14fb94c9",
   "metadata": {
    "execution": {
     "iopub.execute_input": "2024-11-06T13:11:24.664916Z",
     "iopub.status.busy": "2024-11-06T13:11:24.664593Z",
     "iopub.status.idle": "2024-11-06T13:11:24.668294Z",
     "shell.execute_reply": "2024-11-06T13:11:24.667494Z",
     "shell.execute_reply.started": "2024-11-06T13:11:24.664891Z"
    }
   },
   "source": [
    "# Dimension reduction"
   ]
  },
  {
   "cell_type": "markdown",
   "id": "a8cf56b8-c336-474c-bedd-1b16b181dab0",
   "metadata": {},
   "source": [
    "## PCA"
   ]
  },
  {
   "cell_type": "markdown",
   "id": "f98b6dfdbca05ed6",
   "metadata": {},
   "source": [
    "### Sklearn PCA"
   ]
  },
  {
   "cell_type": "code",
   "execution_count": null,
   "id": "ec6fd257-0d77-47a2-826a-eef69c94e452",
   "metadata": {
    "ExecuteTime": {
     "end_time": "2024-11-23T11:53:55.569225Z",
     "start_time": "2024-11-23T11:53:55.545328Z"
    },
    "execution": {
     "iopub.execute_input": "2024-11-07T12:58:28.496161Z",
     "iopub.status.busy": "2024-11-07T12:58:28.495880Z",
     "iopub.status.idle": "2024-11-07T12:58:28.508864Z",
     "shell.execute_reply": "2024-11-07T12:58:28.508293Z",
     "shell.execute_reply.started": "2024-11-07T12:58:28.496137Z"
    }
   },
   "outputs": [],
   "source": [
    "# Replace NaN values with 0\n",
    "feature_df_filled = feature_df_pattern_log10.fillna(0)\n",
    "\n",
    "# Initialize PCA and fit it to the filled DataFrame\n",
    "n_components = 2  # Number of principal components, adjust as needed\n",
    "pca_sk = PCA(n_components=2)\n",
    "principal_components = pca_sk.fit_transform(feature_df_filled)\n",
    "\n",
    "# Create a DataFrame with the PCA results\n",
    "pca_df = pd.DataFrame(data=principal_components, columns=[f'PC{i+1}' for i in range(int(pca_sk.n_components_))])\n",
    "display(pca_df)\n",
    "\n",
    "# Optional: Print the explained variance ratio of each component\n",
    "print(\"Explained variance ratio:\", pca_sk.explained_variance_ratio_)"
   ]
  },
  {
   "cell_type": "code",
   "execution_count": null,
   "id": "f103139e-3351-4495-83b1-23b121bdd2da",
   "metadata": {
    "ExecuteTime": {
     "end_time": "2024-11-23T11:45:15.009504Z",
     "start_time": "2024-11-23T11:45:14.924373Z"
    },
    "execution": {
     "iopub.execute_input": "2024-11-07T11:32:28.609765Z",
     "iopub.status.busy": "2024-11-07T11:32:28.608552Z",
     "iopub.status.idle": "2024-11-07T11:32:28.834530Z",
     "shell.execute_reply": "2024-11-07T11:32:28.833903Z",
     "shell.execute_reply.started": "2024-11-07T11:32:28.609741Z"
    }
   },
   "outputs": [],
   "source": [
    "pca_df = pd.DataFrame(data=principal_components, columns=['PC1', 'PC2'])\n",
    "\n",
    "# Scatter plot of the first two principal components\n",
    "plt.figure(figsize=(8, 6))\n",
    "plt.scatter(pca_df['PC1'], pca_df['PC2'], alpha=0.5)\n",
    "plt.xlabel('Principal Component 1')\n",
    "plt.ylabel('Principal Component 2')\n",
    "plt.title('PCA Scatter Plot of First Two Principal Components')\n",
    "plt.grid(True)\n",
    "plt.show()"
   ]
  },
  {
   "cell_type": "markdown",
   "id": "ba98f09675ea3ed4",
   "metadata": {},
   "source": [
    "### Alternative PCA"
   ]
  },
  {
   "cell_type": "code",
   "execution_count": null,
   "id": "eea7ce16da21361d",
   "metadata": {
    "ExecuteTime": {
     "end_time": "2024-11-23T11:51:02.232072Z",
     "start_time": "2024-11-23T11:50:59.624245Z"
    }
   },
   "outputs": [],
   "source": [
    "###########################################################\n",
    "# COMPUTE AND VISUALIZE PCA\n",
    "###########################################################\n",
    "# Initialize the PCA, either reduce the data to the number of\n",
    "# principal components that explain 95% of the total variance...\n",
    "model = pca(n_components=0.95)\n",
    "# ... or explicitly specify the number of PCs\n",
    "#model = pca(n_components=2)\n",
    "\n",
    "# Fit and transform\n",
    "results = model.fit_transform(X=feature_df_filled)\n",
    "\n",
    "# Plot the explained variance\n",
    "fig, ax = model.plot()\n",
    "\n",
    "# Scatter the first two PCs\n",
    "fig, ax = model.scatter()\n",
    "\n",
    "# Create a biplot\n",
    "fig, ax = model.biplot(n_feat=4)"
   ]
  },
  {
   "cell_type": "markdown",
   "id": "a5a62e17-5321-4e4f-8b41-0a5a906dd8dc",
   "metadata": {},
   "source": [
    "## SVD"
   ]
  },
  {
   "cell_type": "code",
   "execution_count": null,
   "id": "a5b0a5bc-074e-475f-be87-06387b2c6be8",
   "metadata": {
    "ExecuteTime": {
     "end_time": "2024-11-15T14:54:52.677474Z",
     "start_time": "2024-11-15T14:54:52.582031Z"
    },
    "execution": {
     "iopub.execute_input": "2024-11-07T12:58:38.872311Z",
     "iopub.status.busy": "2024-11-07T12:58:38.872104Z",
     "iopub.status.idle": "2024-11-07T12:58:39.103506Z",
     "shell.execute_reply": "2024-11-07T12:58:39.102785Z",
     "shell.execute_reply.started": "2024-11-07T12:58:38.872290Z"
    }
   },
   "outputs": [],
   "source": [
    "# Replace NaN values with 0\n",
    "feature_df_filled = feature_df_pattern_log10.fillna(0)\n",
    "\n",
    "# Initialize SVD and fit it to the DataFrame\n",
    "n_components = 2  # Number of desired components\n",
    "svd = TruncatedSVD(n_components=n_components)\n",
    "svd_components = svd.fit_transform(feature_df_filled)\n",
    "\n",
    "# Create a DataFrame with the SVD results\n",
    "svd_df = pd.DataFrame(data=svd_components, columns=['Component 1', 'Component 2'])\n",
    "\n",
    "# Scatter plot of the first two SVD components\n",
    "plt.figure(figsize=(8, 6))\n",
    "plt.scatter(svd_df['Component 1'], svd_df['Component 2'], alpha=0.5)\n",
    "plt.xlabel('Component 1')\n",
    "plt.ylabel('Component 2')\n",
    "plt.title('SVD Scatter Plot of First Two Components')\n",
    "plt.grid(True)\n",
    "plt.show()"
   ]
  },
  {
   "cell_type": "markdown",
   "id": "a7b1a06164b5126f",
   "metadata": {},
   "source": [
    "# Plotting"
   ]
  },
  {
   "cell_type": "code",
   "execution_count": null,
   "id": "22bd0d2dbaa8624c",
   "metadata": {
    "ExecuteTime": {
     "end_time": "2024-11-23T12:21:35.624386Z",
     "start_time": "2024-11-23T12:21:35.570420Z"
    }
   },
   "outputs": [],
   "source": [
    "# Load the state shapefile data from a pickle file\n",
    "state_shape = pd.read_pickle('../data/raw/state.pickle')\n",
    "\n",
    "# Load the county shapefile data from a pickle file\n",
    "county_shape = pd.read_pickle('../data/raw/county.pickle')\n",
    "\n",
    "# Filtering the state shapes to exclude specific regions (Alaska, Hawaii, and U.S. territories) and storing the corresponding STATEFP codes.\n",
    "filtered_statefp = state_shape.loc[~state_shape['NAME'].isin(['Alaska', 'Hawaii', 'Puerto Rico', 'Commonwealth of the Northern Mariana Islands', 'American Samoa', 'United States Virgin Islands', 'Guam']), 'STATEFP']\n",
    "\n",
    "# Creating a new DataFrame for state & county shapes that match the filtered STATEFP codes.\n",
    "filtered_state_shape = state_shape[state_shape['STATEFP'].isin(filtered_statefp)]\n",
    "filtered_county_shape = county_shape[county_shape['STATEFP'].isin(filtered_statefp)]\n",
    "filtered_county_shape = filtered_county_shape.rename(columns={'GEOID': 'FIPS'})\n",
    "filtered_county_shape = filtered_county_shape[['FIPS', 'geometry']]\n",
    "filtered_state_shape = filtered_state_shape['geometry']"
   ]
  },
  {
   "cell_type": "code",
   "execution_count": null,
   "id": "69c4ee4dee23f2e7",
   "metadata": {
    "ExecuteTime": {
     "end_time": "2024-11-23T12:21:40.215893Z",
     "start_time": "2024-11-23T12:21:40.130961Z"
    }
   },
   "outputs": [],
   "source": [
    "filtered_state_shape.to_pickle('../data/processed/plot_state_shape.pickle')\n",
    "filtered_county_shape.to_pickle('../data/processed/plot_county_shape.pickle')"
   ]
  },
  {
   "cell_type": "code",
   "execution_count": null,
   "id": "153a2e2fd6ccbf7c",
   "metadata": {
    "ExecuteTime": {
     "end_time": "2024-11-23T12:16:13.825341Z",
     "start_time": "2024-11-23T12:16:13.805720Z"
    }
   },
   "outputs": [],
   "source": [
    "filtered_county_shape_merged = filtered_county_shape.merge(feature_df_pattern.fillna(0), on='FIPS', how='left')\n",
    "filtered_county_shape_merged"
   ]
  },
  {
   "cell_type": "code",
   "execution_count": null,
   "id": "9ea446b7-6992-49fe-85c4-ee50c82d5a6f",
   "metadata": {
    "ExecuteTime": {
     "end_time": "2024-11-23T12:16:28.965374Z",
     "start_time": "2024-11-23T12:16:21.239657Z"
    }
   },
   "outputs": [],
   "source": [
    "for column in filtered_county_shape_merged.columns[3:]:\n",
    "    fig, ax = plt.subplots(figsize=(15, 7))\n",
    "\n",
    "    # Defining the normalization range for the colormap.\n",
    "    vmin = filtered_county_shape_merged[column].min() * 2  # Minimum value, adjusted for better color scaling.\n",
    "    vmax = filtered_county_shape_merged[column].max() * 0.1  # Maximum value, adjusted for better color scaling.\n",
    "\n",
    "    # Creating a heatmap for the current filter string.\n",
    "    filtered_county_shape_merged.plot(\n",
    "        column=column,  # The column used to determine the colors in the heatmap.\n",
    "        cmap='OrRd',  # Color map selection (e.g., Orange-Red).\n",
    "        linewidth=0.8,\n",
    "        ax=ax,\n",
    "        legend=True,  # Displaying the legend.\n",
    "        vmin=vmin,  # Setting the minimum value for the colormap.\n",
    "        vmax=vmax   # Setting the maximum value for the colormap.\n",
    "    )\n",
    "\n",
    "    # Adding outlines for the filtered states and counties.\n",
    "    filtered_state_shape.plot(ax=ax, color='none', edgecolor='black', linewidth=0.5)\n",
    "    filtered_county_shape.plot(ax=ax, color='none', edgecolor='gray', linewidth=0.4, alpha=0.5)\n",
    "\n",
    "    # Adding a title to the plot.\n",
    "    ax.set_title(f'Heatmap für {column}', fontsize=16)\n",
    "\n",
    "    # Displaying the plot.\n",
    "    plt.show()"
   ]
  },
  {
   "cell_type": "code",
   "execution_count": null,
   "id": "1bac9a70ebbd659f",
   "metadata": {},
   "outputs": [],
   "source": []
  }
 ],
 "metadata": {
  "kernelspec": {
   "display_name": "Python 3 (ipykernel)",
   "language": "python",
   "name": "python3"
  },
  "language_info": {
   "codemirror_mode": {
    "name": "ipython",
    "version": 3
   },
   "file_extension": ".py",
   "mimetype": "text/x-python",
   "name": "python",
   "nbconvert_exporter": "python",
   "pygments_lexer": "ipython3",
   "version": "3.10.8"
  },
  "toc-autonumbering": true
 },
 "nbformat": 4,
 "nbformat_minor": 5
}
