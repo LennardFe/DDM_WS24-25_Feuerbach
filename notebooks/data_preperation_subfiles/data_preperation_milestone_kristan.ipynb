{
 "cells": [
  {
   "cell_type": "markdown",
   "metadata": {},
   "source": [
    "# GDP Data"
   ]
  },
  {
   "cell_type": "code",
   "execution_count": null,
   "metadata": {},
   "outputs": [],
   "source": [
    "import pandas as pd\n",
    "from IPython.display import display\n",
    "import numpy as np\n",
    "import matplotlib.pyplot as plt\n",
    "from sklearn.preprocessing import MinMaxScaler, StandardScaler\n",
    "\n",
    "county = pd.read_pickle('../data/raw/county.pickle')\n",
    "gdp = pd.read_pickle('../data/raw/gdp.pickle')\n",
    "industry_relevance = pd.read_excel('../data/external/Ranking_Werkzeugverbrauch.xlsx', sheet_name='Pattern Industries')\n"
   ]
  },
  {
   "cell_type": "code",
   "execution_count": null,
   "metadata": {},
   "outputs": [],
   "source": [
    "# Calculate avg gdp over the years\n",
    "gdp['avg_gdp'] = gdp.iloc[:, 1:].mean(axis=1)"
   ]
  },
  {
   "cell_type": "code",
   "execution_count": null,
   "metadata": {},
   "outputs": [],
   "source": [
    "display(industry_relevance['naics'].unique())\n",
    "# log\n",
    "display(gdp['IndustryClassification'].unique())"
   ]
  },
  {
   "cell_type": "code",
   "execution_count": null,
   "metadata": {},
   "outputs": [],
   "source": [
    "gdp = gdp[gdp['IndustryClassification'] != '...']\n"
   ]
  },
  {
   "cell_type": "code",
   "execution_count": null,
   "metadata": {},
   "outputs": [],
   "source": [
    "def parse_code_string(code_string):\n",
    "    \"\"\"\n",
    "    Parses a string with numbers and ranges into a list of integers.\n",
    "    Example: '42,44-46' -> [42, 44, 45, 46]\n",
    "    \"\"\"\n",
    "    result = []\n",
    "    # Split the string by commas to separate elements\n",
    "    parts = code_string.split(',')\n",
    "    \n",
    "    for part in parts:\n",
    "        if '-' in part:\n",
    "            # Handle ranges (e.g., '44-46')\n",
    "            start, end = map(int, part.split('-'))\n",
    "            result.extend(range(start, end + 1))  # Add all numbers in the range\n",
    "        else:\n",
    "            # Handle single numbers\n",
    "            result.append(int(part))\n",
    "    \n",
    "    return result"
   ]
  },
  {
   "cell_type": "code",
   "execution_count": null,
   "metadata": {},
   "outputs": [],
   "source": [
    "gdp['IndustryClassificationList'] = gdp['IndustryClassification'].apply(parse_code_string)"
   ]
  },
  {
   "cell_type": "code",
   "execution_count": null,
   "metadata": {},
   "outputs": [],
   "source": [
    "# ich möchte da wo die top indsutires sind eine neu column als liste die die subsindsutries zurodnert\n",
    "# was brauche ich: die top industries in der column und die liste aller subcateogires\n",
    "def generate_sub_industries_from_top_industries(top_industries_list, sub_industries):\n",
    "    sub_industires = []\n",
    "    for industry in top_industries_list:\n",
    "        for sub_industry in sub_industries:\n",
    "            if sub_industry.startswith(str(industry)):\n",
    "                sub_industires.append(sub_industry)\n",
    "    return sub_industires\n",
    "    "
   ]
  },
  {
   "cell_type": "code",
   "execution_count": null,
   "metadata": {},
   "outputs": [],
   "source": [
    "# for every industry take mean of subIndustryrelvance and then take mean weighted with amout of subindustries, so that in the end i take a mean of subIndustries not of top Industires\n",
    "sub_industries = industry_relevance['naics'].dropna()\n",
    "gdp['subIndustryClassificationList'] = gdp['IndustryClassificationList'].apply(lambda x: generate_sub_industries_from_top_industries(x, sub_industries))\n"
   ]
  },
  {
   "cell_type": "code",
   "execution_count": null,
   "metadata": {},
   "outputs": [],
   "source": [
    "def calc_relevance_out_of_sub_industries(sub_industries, sub_industry_info):\n",
    "    industry_relevance = sub_industry_info[sub_industry_info['naics'].isin(sub_industries)]\n",
    "    #industry_relevance = industry_relevance[industry_relevance['Mittelwert'] >= 0.5]\n",
    "    return (industry_relevance['Mittelwert'].fillna(0).mean() if not industry_relevance.empty else 0)\n",
    "    \n",
    "    "
   ]
  },
  {
   "cell_type": "code",
   "execution_count": null,
   "metadata": {},
   "outputs": [],
   "source": [
    "gdp['IndustryRelevance'] = gdp['subIndustryClassificationList'].apply(lambda x: calc_relevance_out_of_sub_industries(x, industry_relevance))"
   ]
  },
  {
   "cell_type": "code",
   "execution_count": null,
   "metadata": {},
   "outputs": [],
   "source": [
    "gdp['IndustryRelevance'].fillna(0)\n",
    "gdp.head()\n"
   ]
  },
  {
   "cell_type": "code",
   "execution_count": null,
   "metadata": {},
   "outputs": [],
   "source": [
    "print(f'{(len(gdp[gdp['IndustryRelevance'] <= 0.5]) / len(gdp['IndustryRelevance'])):.2%} of rows have industries that are not relevant')\n",
    "relevance_of_industries = gdp.groupby('Description')['IndustryRelevance'].mean().sort_values()\n",
    "\n",
    "# -> Manufacturing and Information out because it is only Manufacturing\n",
    "gdp_relevant_industries = relevance_of_industries[relevance_of_industries > 0.5].index\n",
    "display(gdp_relevant_industries)\n",
    "\n",
    "\n",
    "# by looking at industries it and their subcategories it seems to be most suitable to select the industires above 0.5 relvance and rate them as equal as we do not know the relvance\n",
    "# of the other sub industires and how imprtant they are\n",
    "\n",
    "# filtered by relvance\n",
    "gdp = gdp[gdp['Description'].isin(gdp_relevant_industries)]\n",
    "display(gdp['Description'].unique())"
   ]
  },
  {
   "cell_type": "code",
   "execution_count": null,
   "metadata": {},
   "outputs": [],
   "source": [
    "# remove  industries that are caputred in a diffrent industry \n",
    "gdp_industries_and_their_sub = gdp[['IndustryClassification', 'Description', 'subIndustryClassificationList']].drop_duplicates('IndustryClassification')\n",
    "gdp_industries_and_their_sub['nSubIndustries'] = gdp_industries_and_their_sub['subIndustryClassificationList'].apply(lambda x: len(x))\n",
    "display(gdp_industries_and_their_sub)\n",
    "redundant_industries = ['   Durable goods manufacturing ', 'Manufacturing and information ', 'Natural resources and mining ']\n",
    "\n",
    "\n",
    "gdp_industries_and_their_sub = gdp_industries_and_their_sub[~gdp_industries_and_their_sub['Description'].isin(redundant_industries)]\n",
    "display(gdp_industries_and_their_sub)\n",
    "#filter redundant industries\n",
    "gdp = gdp[~gdp['Description'].isin(redundant_industries)]\n",
    "display(gdp['Description'].unique())\n",
    "\n",
    "\n"
   ]
  },
  {
   "cell_type": "code",
   "execution_count": null,
   "metadata": {},
   "outputs": [],
   "source": [
    "print(gdp.columns)\n",
    "print(gdp['Unit'].unique())\n",
    "\n",
    "# caclualte devleopment for of gdp for each FIPS (with log)\n",
    "# caclualte aveage devleopment for of gdp for each FIPS\n",
    "# average gpd for FIPS"
   ]
  },
  {
   "cell_type": "code",
   "execution_count": null,
   "metadata": {},
   "outputs": [],
   "source": [
    "industires_per_fips = gdp.groupby(['Description'])['FIPS']\n",
    "display(industires_per_fips)"
   ]
  },
  {
   "cell_type": "code",
   "execution_count": null,
   "metadata": {},
   "outputs": [],
   "source": [
    "years = ['2017', '2018', '2019', '2020', '2021', '2022']\n",
    "columns_without_years = [item for item in gdp.columns if item not in years]\n",
    "gdp_per_industry = gdp.groupby(['FIPS', 'Description'])[years].sum()\n",
    "display(gdp_per_industry.describe())\n",
    "gdp_per_industry = gdp_per_industry.replace(0, np.nan)\n",
    "display(len(gdp_per_industry[(gdp_per_industry.isna()).sum(axis=1) == 0])/len(gdp_per_industry))\n",
    "display((gdp_per_industry.isna()).sum()/len(gdp_per_industry))\n",
    "\n",
    "\n",
    "rates = gdp_per_industry.pct_change(axis=1)\n",
    "years.remove('2017')\n",
    "rates['averageGrowthPerYear'] = rates[years].mean(axis=1)\n",
    "gdp_per_industry['averageGrowthPerYear'] = rates['averageGrowthPerYear']\n",
    "gdp_per_industry['averageGdp']= gdp_per_industry[years].mean(axis=1)\n",
    "\n",
    "# ok in manchen fips habe ich  keine dieser industrien, daher ignorien dann dies industrien. ich brauch eine kennzahl die sagt wie viel vom gesamtmarkt von dieser Industrie in diesem FIPS ist \n",
    "# \n",
    "gdp_per_industry\n",
    "\n",
    "def add_zeros(code):\n",
    "    code = str(code)\n",
    "    if len(code) == 3:\n",
    "        return '00' + code\n",
    "    elif len(code) == 4:\n",
    "        return '0' + code\n",
    "    elif len(code) == 1:\n",
    "        return '0000' + code\n",
    "    return code\n"
   ]
  },
  {
   "cell_type": "code",
   "execution_count": null,
   "metadata": {},
   "outputs": [],
   "source": [
    "gdp_per_industry = gdp_per_industry.reset_index()\n",
    "gdp_per_industry = gdp_per_industry.drop(columns=years)\n",
    "# Pivot the 'Description' column for 'averageGrowthPerYear'\n",
    "pivoted_growth = gdp_per_industry.pivot(index='FIPS', columns='Description', values='averageGrowthPerYear')\n",
    "\n",
    "# Rename the columns with the suffix `_averageGrowthPerYear`\n",
    "pivoted_growth.columns = [f\"{col}_averageGrowthPerYear\" for col in pivoted_growth.columns]\n",
    "\n",
    "# (Optional) Pivot for 'averageGDP' or other metrics\n",
    "pivoted_gdp = gdp_per_industry.pivot(index='FIPS', columns='Description', values='averageGdp')\n",
    "pivoted_gdp.columns = [f\"{col}_averageGdp\" for col in pivoted_gdp.columns]\n",
    "\n",
    "# Merge the pivoted DataFrames back together if needed\n",
    "feature_df = pivoted_growth.join(pivoted_gdp, how='outer')\n",
    "feature_df = feature_df.replace(0, np.nan)\n"
   ]
  },
  {
   "cell_type": "code",
   "execution_count": null,
   "metadata": {},
   "outputs": [],
   "source": [
    "display(feature_df)"
   ]
  },
  {
   "cell_type": "code",
   "execution_count": null,
   "metadata": {},
   "outputs": [],
   "source": [
    "feature_df = feature_df.reset_index()\n",
    "feature_df['FIPS'] = feature_df['FIPS'].apply(add_zeros)\n",
    "display(feature_df)\n",
    "pd.to_pickle(feature_df,'../data/processed/gdp.pickle')"
   ]
  },
  {
   "cell_type": "markdown",
   "metadata": {},
   "source": [
    "# Scaling"
   ]
  },
  {
   "cell_type": "code",
   "execution_count": null,
   "metadata": {},
   "outputs": [],
   "source": [
    "# Drop 'FIPS' column\n",
    "feature_df_no_fips = feature_df.drop(columns='FIPS')\n",
    "\n",
    "plt.figure(figsize=(12,4))\n",
    "\n",
    "# Plot points without NaN values for each column except 'FIPS'\n",
    "for col in feature_df_no_fips.columns:\n",
    "    # Remove NaN values\n",
    "    non_nan_data = feature_df_no_fips[col].dropna()\n",
    "    plt.scatter([col] * len(non_nan_data), non_nan_data, s=50, alpha=0.6, label=col)  # Set s to a fixed value\n",
    "\n",
    "plt.xlabel(\"Features\")\n",
    "plt.ylabel(\"establishments\")\n",
    "plt.title(\"Scatterplot of Features\")\n",
    "plt.legend(title=\"Feature Legend\")\n",
    "plt.gca().axes.get_xaxis().set_visible(False)\n",
    "plt.show()\n"
   ]
  },
  {
   "cell_type": "code",
   "execution_count": null,
   "metadata": {},
   "outputs": [],
   "source": [
    "# Drop the 'FIPS' column\n",
    "feature_df_no_fips = feature_df.drop(columns='FIPS')\n",
    "\n",
    "# Number of columns (features)\n",
    "n_features = len(feature_df_no_fips.columns)\n",
    "\n",
    "# Set up subplots (one row and as many columns as there are features)\n",
    "fig, axes = plt.subplots(n_features, 1, figsize=(7, 4 * n_features))\n",
    "\n",
    "# Create a histogram for each feature\n",
    "for i, col in enumerate(feature_df_no_fips.columns):\n",
    "    axes[i].hist(feature_df_no_fips[col].dropna(), bins=40, alpha=0.7, color='skyblue')\n",
    "    axes[i].set_xlabel(col)\n",
    "    axes[i].set_ylabel('Frequency')\n",
    "    axes[i].set_title(f'Histogram of {col}')\n",
    "    axes[i].grid(True)\n",
    "\n",
    "plt.tight_layout()\n",
    "plt.show()"
   ]
  },
  {
   "cell_type": "code",
   "execution_count": null,
   "metadata": {},
   "outputs": [],
   "source": [
    "# Drop the 'FIPS' column\n",
    "feature_df_no_fips = feature_df.drop(columns='FIPS')\n",
    "\n",
    "# Linear Standardization (Min-Max Scaling)\n",
    "scaler_minmax = MinMaxScaler()\n",
    "feature_df_minmax = scaler_minmax.fit_transform(feature_df_no_fips)\n",
    "\n",
    "# Z-transformation (Standardization)\n",
    "scaler_standard = StandardScaler()\n",
    "feature_df_zscore = scaler_standard.fit_transform(feature_df_no_fips)\n",
    "\n",
    "# Log10 Scaling (with a small constant to avoid log(0))\n",
    "feature_df_log10 = np.log10(feature_df_no_fips + 1e-9)\n",
    "\n",
    "# Plotting function with automatic y-limits adjustment\n",
    "def plot_features(data, title, ax):\n",
    "    for i, col in enumerate(feature_df_no_fips.columns):\n",
    "        non_nan_data = data[:, i][~np.isnan(data[:, i])]  # Get non-NaN data for each feature\n",
    "        ax.scatter([col] * len(non_nan_data), non_nan_data, s=20, alpha=0.6, label=col)\n",
    "    ax.set_xlabel(\"Features\")\n",
    "    ax.set_ylabel(\"Values\")\n",
    "    ax.set_title(title)\n",
    "       \n",
    "\n",
    "# Create a 3x2 grid of subplots\n",
    "fig, axes = plt.subplots(3, 2, figsize=(30, 24), sharey=False)\n",
    "plt.gca().axes.get_xaxis().set_visible(False)\n",
    "\n",
    "\n",
    "# List of data pairs and titles for each subplot\n",
    "data_pairs = [\n",
    "    (feature_df_no_fips.to_numpy(), \"Original Data\", feature_df_minmax, \"Linear Standardization (Min-Max Scaling)\"),\n",
    "    (feature_df_no_fips.to_numpy(), \"Original Data\", feature_df_zscore, \"Z-Transformation (Standardization)\"),\n",
    "    (feature_df_no_fips.to_numpy(), \"Original Data\", feature_df_log10.to_numpy(), \"Log10 Scaling\")\n",
    "]\n",
    "\n",
    "# Plot each pair of datasets in the grid\n",
    "for row, (original_data, original_title, transformed_data, transformed_title) in enumerate(data_pairs):\n",
    "    plt.gca().axes.get_xaxis().set_visible(False)\n",
    "\n",
    "    # Plot original data in the left column\n",
    "    plot_features(original_data, original_title, axes[row, 0])\n",
    "    # Plot transformed data in the right column\n",
    "    plot_features(transformed_data, transformed_title, axes[row, 1])\n",
    "\n",
    "# Adjust layout and show legend for each subplot\n",
    "for ax in axes.flat:\n",
    "    if ax.has_data():\n",
    "        plt.gca().axes.get_xaxis().set_visible(False)\n",
    "        ax.legend(title=\"Feature Legend\", loc='upper right')\n",
    "plt.tight_layout()\n",
    "plt.show()\n"
   ]
  },
  {
   "cell_type": "code",
   "execution_count": null,
   "metadata": {},
   "outputs": [],
   "source": [
    "# Drop the 'FIPS' column\n",
    "feature_df_no_fips = feature_df.drop(columns='FIPS')\n",
    "\n",
    "# Log10 Scaling (with a small constant to avoid log(0))\n",
    "feature_df_log10 = np.log10(feature_df_no_fips + 1e-9)\n",
    "\n",
    "# Plotting function for histograms (only for log10 scaling)\n",
    "def plot_histograms_log10(data):\n",
    "    n_features = data.shape[1]\n",
    "    fig, axes = plt.subplots(n_features, 1, figsize=(10, 5 * n_features))\n",
    "\n",
    "    # Loop through each feature and plot its histogram\n",
    "    for i, col in enumerate(feature_df_no_fips.columns):\n",
    "        axes[i].hist(data[:, i], bins=20, alpha=0.7, color='skyblue')\n",
    "        axes[i].set_xlabel(col)\n",
    "        axes[i].set_ylabel('Frequency')\n",
    "        axes[i].set_title(f'Histogram of {col} (Log10 Scaling)')\n",
    "        axes[i].grid(True)\n",
    "\n",
    "    plt.tight_layout()\n",
    "    plt.show()\n",
    "\n",
    "# Plot histograms for Log10 scaling\n",
    "plot_histograms_log10(feature_df_log10.to_numpy())\n"
   ]
  },
  {
   "cell_type": "code",
   "execution_count": null,
   "metadata": {},
   "outputs": [],
   "source": []
  }
 ],
 "metadata": {
  "kernelspec": {
   "display_name": "ddm",
   "language": "python",
   "name": "python3"
  },
  "language_info": {
   "codemirror_mode": {
    "name": "ipython",
    "version": 3
   },
   "file_extension": ".py",
   "mimetype": "text/x-python",
   "name": "python",
   "nbconvert_exporter": "python",
   "pygments_lexer": "ipython3",
   "version": "3.12.4"
  }
 },
 "nbformat": 4,
 "nbformat_minor": 2
}
